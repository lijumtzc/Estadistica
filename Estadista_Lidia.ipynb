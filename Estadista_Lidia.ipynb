{
 "cells": [
  {
   "cell_type": "markdown",
   "metadata": {
    "heading_collapsed": true
   },
   "source": [
    "# Teoría del Muestreo"
   ]
  },
  {
   "cell_type": "markdown",
   "metadata": {
    "hidden": true
   },
   "source": [
    "Uno de los propósitos de la estadística inferencial es estimar las características poblacionales desconocidas, examinando la información obtenida de una muestra, de una población. El punto de interés es la muestra, la cual debe ser representativa de la población objeto de estudio.\n",
    "\n",
    "Se seguirán ciertos procedimientos de selección para asegurar de que las muestras reflejen observaciones a la población de la que proceden, ya que solo se pueden hacer observaciones probabilísticas sobre una población cuando se usan muestras representativas de la misma.\n",
    "\n",
    "Una población está formada por la totalidad de las observaciones en las cuales se tiene cierto observa.\n",
    "\n",
    "Una muestra es un subconjunto de observaciones seleccionadas de una población."
   ]
  },
  {
   "cell_type": "markdown",
   "metadata": {
    "heading_collapsed": true,
    "hidden": true
   },
   "source": [
    "## Muestras Aleatorias y Errores en el Muestreo\n",
    "\n",
    "Cuando se utilizan valores muestrales, o estadísticos para estimar valores poblacionales, o parámetros, pueden ocurrir dos tipos generales de errores: el error muestral y el error no muestral.\n",
    "El **error muestral** se refiere a la variación natural existente entre muestras tomadas de la misma población.\n",
    "Los errores que surgen al tomar las muestras no pueden clasificarse como errores muestrales y se denominan **errores no muestrales**.\n",
    "\n",
    "El sesgo de las muestras es un tipo de error no muestral. El **sesgo muestral** se refiere a una tendencia sistemática inherente a un método de muestreo que da estimaciones de un parámetro que son, en promedio, menores (sesgo negativo), o mayores (sesgo positivo) que el parámetro real.\n",
    "\n",
    "El sesgo muestral puede suprimirse, o minimizarse,usando la aleatorización.\n",
    "\n",
    "La **aleatorización** se refiere a cualquier proceso de selección de una muestra de la población en el que la selección es imparcial o no está sesgada; una muestra elegida con procedimientos aleatorios se llama **muestra aleatoria**.\n",
    "\n",
    "Los tipos más comunes de técnicas de muestreo aleatorios son el muestreo aleatorio simple, el muestreo estratificado, el muestreo por conglomerados y el muestreo sistemático.\n",
    "\n",
    "Si una muestra aleatoria se elige de tal forma que todos los elementos de la población tengan la misma probabilidad de ser seleccionados, la llamamos **muestra aleatoria simple**.\n",
    "\n",
    "El **muestreo estratificado** requiere de separar a la población según grupos que no se traslapen llamados estratos, y de elegir después una muestra aleatoria simple en cada estrato. La información de las muestras aleatorias simples de cada estrato constituiría entonces una muestra global.\n",
    "\n",
    "El **muestreo por conglomerados** requiere de elegir una muestra aleatoria simple de unidades heterogéneas entre sí de la población llamadas **conglomerados**. Cada elemento de la población pertenece exactamente a un conglomerado, y los elementos dentro de cada conglomerado son usualmente heterogéneos o disímiles.\n",
    "\n",
    "El **muestreo sistemático** es una técnica de muestreo que requiere de una selección aleatoria inicial de observaciones seguida de otra selección de observaciones obtenida usando algún sistema o regla."
   ]
  },
  {
   "cell_type": "markdown",
   "metadata": {
    "heading_collapsed": true,
    "hidden": true
   },
   "source": [
    "## Error Muestral\n",
    "Cualquier medida conlleva algún error. Si se usa la media para medir, estimar, la media poblacional $\\mu$, entonces la media muestral, como medida, conlleva algún error. Por ejemplo, supongamos que se ha obtenido una muestra aleatoria de tamaño $25$ de una población con $\\mu = 15$, si la media de la muestra es $x = 12$, entonces a la diferencia observada $x -\\mu = -3$ se le denomina el error muestral. Una media muestral $x$ puede pensarse como la suma de dos cantidades, la media poblacional $\\mu$ y el error muestral; si $e$ denota el error muestral, entonces:\n",
    "\n",
    "$X = \\mu - e$"
   ]
  },
  {
   "cell_type": "markdown",
   "metadata": {
    "heading_collapsed": true,
    "hidden": true
   },
   "source": [
    "### Ejemplo:\n",
    "Se toman muestras de tamaño $2$ de una población consistente en tres valores, $2$, $4$ y $6$, para simular una población \"grande\" de manera que el muestreo pueda realizarse un gran número de veces,supondremos que éste se hace con reemplazo, es decir, el número elegido se reemplaza antes de seleccionar el siguiente, además, se seleccionan muestras ordenadas. En una muestra ordenada, el orden en que se seleccionan las observaciones es importante, por tanto, la muestra ordenada $(2,4)$ es distinta de la muestra ordenada $(4,2)$. En la muestra $(4,2)$, se seleccionó primero $4$ y después $2$. La siguiente tabla contiene una lista de todas las muestras ordenadas de tamaño $2$ que es posible seleccionar con reemplazo y también contiene las medias muestrales y los correspondientes errores muestrales. \n",
    "\n",
    "La media poblacional es: \n",
    "\n",
    "$\\mu = (2+4+6)/3 = 4$."
   ]
  },
  {
   "cell_type": "code",
   "execution_count": 23,
   "metadata": {
    "ExecuteTime": {
     "end_time": "2020-03-18T22:34:28.246261Z",
     "start_time": "2020-03-18T22:34:28.217582Z"
    },
    "hidden": true
   },
   "outputs": [
    {
     "data": {
      "text/html": [
       "<div>\n",
       "<style scoped>\n",
       "    .dataframe tbody tr th:only-of-type {\n",
       "        vertical-align: middle;\n",
       "    }\n",
       "\n",
       "    .dataframe tbody tr th {\n",
       "        vertical-align: top;\n",
       "    }\n",
       "\n",
       "    .dataframe thead th {\n",
       "        text-align: right;\n",
       "    }\n",
       "</style>\n",
       "<table border=\"1\" class=\"dataframe\">\n",
       "  <thead>\n",
       "    <tr style=\"text-align: right;\">\n",
       "      <th></th>\n",
       "      <th>Muestras ordenadas</th>\n",
       "      <th>x</th>\n",
       "      <th>e = x - μ</th>\n",
       "    </tr>\n",
       "  </thead>\n",
       "  <tbody>\n",
       "    <tr>\n",
       "      <th>0</th>\n",
       "      <td>(2,2)</td>\n",
       "      <td>2</td>\n",
       "      <td>-2</td>\n",
       "    </tr>\n",
       "    <tr>\n",
       "      <th>1</th>\n",
       "      <td>(2,4)</td>\n",
       "      <td>3</td>\n",
       "      <td>-1</td>\n",
       "    </tr>\n",
       "    <tr>\n",
       "      <th>2</th>\n",
       "      <td>(2,6)</td>\n",
       "      <td>4</td>\n",
       "      <td>0</td>\n",
       "    </tr>\n",
       "    <tr>\n",
       "      <th>3</th>\n",
       "      <td>(4,2)</td>\n",
       "      <td>3</td>\n",
       "      <td>-1</td>\n",
       "    </tr>\n",
       "    <tr>\n",
       "      <th>4</th>\n",
       "      <td>(4,4)</td>\n",
       "      <td>4</td>\n",
       "      <td>0</td>\n",
       "    </tr>\n",
       "    <tr>\n",
       "      <th>5</th>\n",
       "      <td>(4,6)</td>\n",
       "      <td>5</td>\n",
       "      <td>1</td>\n",
       "    </tr>\n",
       "    <tr>\n",
       "      <th>6</th>\n",
       "      <td>(6,2)</td>\n",
       "      <td>4</td>\n",
       "      <td>0</td>\n",
       "    </tr>\n",
       "    <tr>\n",
       "      <th>7</th>\n",
       "      <td>(6,4)</td>\n",
       "      <td>5</td>\n",
       "      <td>1</td>\n",
       "    </tr>\n",
       "    <tr>\n",
       "      <th>8</th>\n",
       "      <td>(6,6)</td>\n",
       "      <td>6</td>\n",
       "      <td>2</td>\n",
       "    </tr>\n",
       "  </tbody>\n",
       "</table>\n",
       "</div>"
      ],
      "text/plain": [
       "  Muestras ordenadas  x  e = x - μ\n",
       "0              (2,2)  2         -2\n",
       "1              (2,4)  3         -1\n",
       "2              (2,6)  4          0\n",
       "3              (4,2)  3         -1\n",
       "4              (4,4)  4          0\n",
       "5              (4,6)  5          1\n",
       "6              (6,2)  4          0\n",
       "7              (6,4)  5          1\n",
       "8              (6,6)  6          2"
      ]
     },
     "execution_count": 23,
     "metadata": {},
     "output_type": "execute_result"
    }
   ],
   "source": [
    "import pandas as pd\n",
    "\n",
    "d = {'Muestras ordenadas': ['(2,2)','(2,4)','(2,6)','(4,2)','(4,4)','(4,6)','(6,2)','(6,4)','(6,6)'], \n",
    "     'x': [2,3,4,3,4,5,4,5,6],\n",
    "     'e = x - μ': [-2,-1,0,-1,0,1,0,1,2]}\n",
    "df = pd.DataFrame(d)\n",
    "df "
   ]
  },
  {
   "cell_type": "code",
   "execution_count": 24,
   "metadata": {
    "ExecuteTime": {
     "end_time": "2020-03-18T22:35:42.273295Z",
     "start_time": "2020-03-18T22:35:42.245474Z"
    },
    "hidden": true
   },
   "outputs": [
    {
     "data": {
      "text/html": [
       "<div>\n",
       "<style scoped>\n",
       "    .dataframe tbody tr th:only-of-type {\n",
       "        vertical-align: middle;\n",
       "    }\n",
       "\n",
       "    .dataframe tbody tr th {\n",
       "        vertical-align: top;\n",
       "    }\n",
       "\n",
       "    .dataframe thead th {\n",
       "        text-align: right;\n",
       "    }\n",
       "</style>\n",
       "<table border=\"1\" class=\"dataframe\">\n",
       "  <thead>\n",
       "    <tr style=\"text-align: right;\">\n",
       "      <th></th>\n",
       "      <th>0</th>\n",
       "    </tr>\n",
       "  </thead>\n",
       "  <tbody>\n",
       "    <tr>\n",
       "      <th>x</th>\n",
       "      <td>4.0</td>\n",
       "    </tr>\n",
       "    <tr>\n",
       "      <th>e = x - μ</th>\n",
       "      <td>0.0</td>\n",
       "    </tr>\n",
       "  </tbody>\n",
       "</table>\n",
       "</div>"
      ],
      "text/plain": [
       "             0\n",
       "x          4.0\n",
       "e = x - μ  0.0"
      ]
     },
     "execution_count": 24,
     "metadata": {},
     "output_type": "execute_result"
    }
   ],
   "source": [
    "mean = pd.DataFrame(df.mean(axis = 0))\n",
    "mean"
   ]
  },
  {
   "cell_type": "markdown",
   "metadata": {
    "hidden": true
   },
   "source": [
    "$\\mu_{x} = (2+3+4+3+4+5+4+5+6) / 9 = 4$\n",
    "\n",
    "$e_{1} + e_{2} + e_{3} + ... + e_{9} = 0$\n",
    "\n",
    "En consecuencia, si $x$ se usa para medir, estimar, la media poblacional $\\mu$, el promedio de todos los errores muestrales es cero."
   ]
  },
  {
   "cell_type": "markdown",
   "metadata": {
    "heading_collapsed": true,
    "hidden": true
   },
   "source": [
    "## Distribuciones Muestrales\n",
    "\n",
    "Las muestras aleatorias obtenidas de una población son, por naturaleza propia, impredecibles. No se esperaría que dos muestras aleatorias del mismo tamaño y tomadas de la misma población tenga la misma media muestral o que sean completamente parecidas; puede esperarse que cualquier estadístico, como la media muestral, calculado a partir de las medias en una muestra aleatoria, cambie su valor de una muestra a otra, por ello, se quiere estudiar la distribución de todos los valores posibles de un estadístico. Tales distribuciones serán muy importantes en el estudio de la estadística inferencial, porque las inferencias sobre las poblaciones se harán usando estadísticas muestrales. Como el análisis de las distribuciones asociadas con los estadísticos muestrales, podremos juzgar la confiabilidad de un estadístico muestral como un instrumento para hacer inferencias sobre un parámetro poblacional desconocido.\n",
    "\n",
    "Como los valores de un estadístico, tal como x, varían de una muestra aleatoria a otra, se le puede considerar como una variable aleatoria con su correspondiente distribución de frecuencias.\n",
    "\n",
    "La distribución de frecuencia de un estadístico muestral se denomina **distribución muestral**. En general, la **distribución muestral de un estadístico** es la de todos sus valores posibles calculados a partir de muestras del mismo tamaño.\n",
    "\n",
    "Suponga que se han seleccionado muestras aleatorias de tamaño 20 en una población grande. Se calcula la media muestral x para cada muestra; la colección de todas estas medias muestrales recibe el nombre de **distribución muestral de medias**."
   ]
  },
  {
   "cell_type": "code",
   "execution_count": 39,
   "metadata": {
    "ExecuteTime": {
     "end_time": "2020-03-18T22:43:45.962166Z",
     "start_time": "2020-03-18T22:43:45.909923Z"
    },
    "hidden": true
   },
   "outputs": [
    {
     "data": {
      "text/html": [
       "<div>\n",
       "<style scoped>\n",
       "    .dataframe tbody tr th:only-of-type {\n",
       "        vertical-align: middle;\n",
       "    }\n",
       "\n",
       "    .dataframe tbody tr th {\n",
       "        vertical-align: top;\n",
       "    }\n",
       "\n",
       "    .dataframe thead th {\n",
       "        text-align: right;\n",
       "    }\n",
       "</style>\n",
       "<table border=\"1\" class=\"dataframe\">\n",
       "  <thead>\n",
       "    <tr style=\"text-align: right;\">\n",
       "      <th></th>\n",
       "      <th>0</th>\n",
       "      <th>1</th>\n",
       "      <th>2</th>\n",
       "      <th>3</th>\n",
       "      <th>4</th>\n",
       "      <th>5</th>\n",
       "      <th>6</th>\n",
       "      <th>7</th>\n",
       "      <th>8</th>\n",
       "      <th>9</th>\n",
       "      <th>10</th>\n",
       "      <th>11</th>\n",
       "      <th>12</th>\n",
       "      <th>13</th>\n",
       "      <th>14</th>\n",
       "      <th>15</th>\n",
       "      <th>16</th>\n",
       "      <th>17</th>\n",
       "      <th>18</th>\n",
       "      <th>19</th>\n",
       "    </tr>\n",
       "  </thead>\n",
       "  <tbody>\n",
       "    <tr>\n",
       "      <th>0</th>\n",
       "      <td>-0.954247</td>\n",
       "      <td>-0.365677</td>\n",
       "      <td>-0.072178</td>\n",
       "      <td>-0.466204</td>\n",
       "      <td>-1.056728</td>\n",
       "      <td>-1.853291</td>\n",
       "      <td>1.114942</td>\n",
       "      <td>-2.358918</td>\n",
       "      <td>0.153850</td>\n",
       "      <td>0.735280</td>\n",
       "      <td>0.359615</td>\n",
       "      <td>0.144718</td>\n",
       "      <td>-0.236010</td>\n",
       "      <td>0.177930</td>\n",
       "      <td>2.151923</td>\n",
       "      <td>1.233615</td>\n",
       "      <td>-0.203621</td>\n",
       "      <td>-1.414079</td>\n",
       "      <td>-0.106530</td>\n",
       "      <td>0.662344</td>\n",
       "    </tr>\n",
       "    <tr>\n",
       "      <th>1</th>\n",
       "      <td>0.640057</td>\n",
       "      <td>-0.208569</td>\n",
       "      <td>1.496187</td>\n",
       "      <td>2.088863</td>\n",
       "      <td>0.278983</td>\n",
       "      <td>0.065895</td>\n",
       "      <td>0.531602</td>\n",
       "      <td>-1.211000</td>\n",
       "      <td>-1.810159</td>\n",
       "      <td>-0.672788</td>\n",
       "      <td>0.525390</td>\n",
       "      <td>0.910475</td>\n",
       "      <td>-0.586020</td>\n",
       "      <td>0.644331</td>\n",
       "      <td>1.173703</td>\n",
       "      <td>0.625633</td>\n",
       "      <td>0.027825</td>\n",
       "      <td>-0.154476</td>\n",
       "      <td>0.799175</td>\n",
       "      <td>0.299201</td>\n",
       "    </tr>\n",
       "    <tr>\n",
       "      <th>2</th>\n",
       "      <td>2.125028</td>\n",
       "      <td>0.137752</td>\n",
       "      <td>1.238164</td>\n",
       "      <td>1.567933</td>\n",
       "      <td>-0.526167</td>\n",
       "      <td>-1.071469</td>\n",
       "      <td>-1.822084</td>\n",
       "      <td>1.069224</td>\n",
       "      <td>-0.481717</td>\n",
       "      <td>-0.246217</td>\n",
       "      <td>0.467602</td>\n",
       "      <td>-1.911965</td>\n",
       "      <td>0.603252</td>\n",
       "      <td>-1.386681</td>\n",
       "      <td>-0.332009</td>\n",
       "      <td>-0.022056</td>\n",
       "      <td>-1.166599</td>\n",
       "      <td>-1.857209</td>\n",
       "      <td>-0.158081</td>\n",
       "      <td>0.119470</td>\n",
       "    </tr>\n",
       "    <tr>\n",
       "      <th>3</th>\n",
       "      <td>1.303167</td>\n",
       "      <td>-0.366885</td>\n",
       "      <td>-0.149864</td>\n",
       "      <td>1.094976</td>\n",
       "      <td>-0.266768</td>\n",
       "      <td>0.536106</td>\n",
       "      <td>1.190774</td>\n",
       "      <td>-0.308144</td>\n",
       "      <td>1.955176</td>\n",
       "      <td>-1.322587</td>\n",
       "      <td>-0.017978</td>\n",
       "      <td>1.379738</td>\n",
       "      <td>0.992028</td>\n",
       "      <td>-0.454793</td>\n",
       "      <td>-1.010652</td>\n",
       "      <td>-0.767619</td>\n",
       "      <td>-1.364632</td>\n",
       "      <td>-0.317965</td>\n",
       "      <td>1.196533</td>\n",
       "      <td>-0.086989</td>\n",
       "    </tr>\n",
       "    <tr>\n",
       "      <th>4</th>\n",
       "      <td>-1.528380</td>\n",
       "      <td>-0.003399</td>\n",
       "      <td>-0.134888</td>\n",
       "      <td>-0.554061</td>\n",
       "      <td>-0.039111</td>\n",
       "      <td>-1.264141</td>\n",
       "      <td>-1.967194</td>\n",
       "      <td>-1.429142</td>\n",
       "      <td>0.449111</td>\n",
       "      <td>1.840318</td>\n",
       "      <td>-0.944201</td>\n",
       "      <td>-1.771072</td>\n",
       "      <td>-0.697465</td>\n",
       "      <td>-0.718057</td>\n",
       "      <td>0.139572</td>\n",
       "      <td>0.982984</td>\n",
       "      <td>-0.935992</td>\n",
       "      <td>-0.330733</td>\n",
       "      <td>0.830562</td>\n",
       "      <td>-0.566201</td>\n",
       "    </tr>\n",
       "  </tbody>\n",
       "</table>\n",
       "</div>"
      ],
      "text/plain": [
       "          0         1         2         3         4         5         6  \\\n",
       "0 -0.954247 -0.365677 -0.072178 -0.466204 -1.056728 -1.853291  1.114942   \n",
       "1  0.640057 -0.208569  1.496187  2.088863  0.278983  0.065895  0.531602   \n",
       "2  2.125028  0.137752  1.238164  1.567933 -0.526167 -1.071469 -1.822084   \n",
       "3  1.303167 -0.366885 -0.149864  1.094976 -0.266768  0.536106  1.190774   \n",
       "4 -1.528380 -0.003399 -0.134888 -0.554061 -0.039111 -1.264141 -1.967194   \n",
       "\n",
       "          7         8         9        10        11        12        13  \\\n",
       "0 -2.358918  0.153850  0.735280  0.359615  0.144718 -0.236010  0.177930   \n",
       "1 -1.211000 -1.810159 -0.672788  0.525390  0.910475 -0.586020  0.644331   \n",
       "2  1.069224 -0.481717 -0.246217  0.467602 -1.911965  0.603252 -1.386681   \n",
       "3 -0.308144  1.955176 -1.322587 -0.017978  1.379738  0.992028 -0.454793   \n",
       "4 -1.429142  0.449111  1.840318 -0.944201 -1.771072 -0.697465 -0.718057   \n",
       "\n",
       "         14        15        16        17        18        19  \n",
       "0  2.151923  1.233615 -0.203621 -1.414079 -0.106530  0.662344  \n",
       "1  1.173703  0.625633  0.027825 -0.154476  0.799175  0.299201  \n",
       "2 -0.332009 -0.022056 -1.166599 -1.857209 -0.158081  0.119470  \n",
       "3 -1.010652 -0.767619 -1.364632 -0.317965  1.196533 -0.086989  \n",
       "4  0.139572  0.982984 -0.935992 -0.330733  0.830562 -0.566201  "
      ]
     },
     "execution_count": 39,
     "metadata": {},
     "output_type": "execute_result"
    }
   ],
   "source": [
    "import numpy as np\n",
    "from numpy.random import randn\n",
    "\n",
    "data = []\n",
    "for i in range(5):\n",
    "    dat = randn(20)\n",
    "    data.append(dat)\n",
    "df_data = pd.DataFrame(data)\n",
    "df_data"
   ]
  },
  {
   "cell_type": "code",
   "execution_count": 40,
   "metadata": {
    "ExecuteTime": {
     "end_time": "2020-03-18T22:43:47.182550Z",
     "start_time": "2020-03-18T22:43:47.167199Z"
    },
    "hidden": true
   },
   "outputs": [
    {
     "data": {
      "text/html": [
       "<div>\n",
       "<style scoped>\n",
       "    .dataframe tbody tr th:only-of-type {\n",
       "        vertical-align: middle;\n",
       "    }\n",
       "\n",
       "    .dataframe tbody tr th {\n",
       "        vertical-align: top;\n",
       "    }\n",
       "\n",
       "    .dataframe thead th {\n",
       "        text-align: right;\n",
       "    }\n",
       "</style>\n",
       "<table border=\"1\" class=\"dataframe\">\n",
       "  <thead>\n",
       "    <tr style=\"text-align: right;\">\n",
       "      <th></th>\n",
       "      <th>0</th>\n",
       "    </tr>\n",
       "  </thead>\n",
       "  <tbody>\n",
       "    <tr>\n",
       "      <th>0</th>\n",
       "      <td>-0.117663</td>\n",
       "    </tr>\n",
       "    <tr>\n",
       "      <th>1</th>\n",
       "      <td>0.273215</td>\n",
       "    </tr>\n",
       "    <tr>\n",
       "      <th>2</th>\n",
       "      <td>-0.182691</td>\n",
       "    </tr>\n",
       "    <tr>\n",
       "      <th>3</th>\n",
       "      <td>0.160681</td>\n",
       "    </tr>\n",
       "    <tr>\n",
       "      <th>4</th>\n",
       "      <td>-0.432074</td>\n",
       "    </tr>\n",
       "  </tbody>\n",
       "</table>\n",
       "</div>"
      ],
      "text/plain": [
       "          0\n",
       "0 -0.117663\n",
       "1  0.273215\n",
       "2 -0.182691\n",
       "3  0.160681\n",
       "4 -0.432074"
      ]
     },
     "execution_count": 40,
     "metadata": {},
     "output_type": "execute_result"
    }
   ],
   "source": [
    "mean_x = pd.DataFrame(df_data.mean(axis = 1))\n",
    "mean_x"
   ]
  },
  {
   "cell_type": "markdown",
   "metadata": {
    "heading_collapsed": true,
    "hidden": true
   },
   "source": [
    "## Desviación Estándar\n",
    "En estadística, la **desviación estándar** representada de forma abreviada por la letra  $\\sigma$ o la letra latina $s$, es una medida que se usa para cuantificar la variación o dispersión de un conjunto de datos numéricos.\n",
    "\n",
    "Una *desviación estándar baja* indica que la mayor parte de los datos de una muestra tienden a estar agrupados cerca de su media (también denominada el valor esperado), mientras que una *desviación estándar alta* indica que los datos se extienden sobre un rango de valores más amplio.\n",
    "\n",
    "Suponga que se eligen muestras aleatorias de tamaño 20, de una población grande, y se calcula la deviación estándar de cada una. La colección de todas estas desviaciones estándar muestrales se llama **distribución muestral de la desviación estándar**."
   ]
  },
  {
   "cell_type": "code",
   "execution_count": 41,
   "metadata": {
    "ExecuteTime": {
     "end_time": "2020-03-18T22:43:48.661845Z",
     "start_time": "2020-03-18T22:43:48.649346Z"
    },
    "hidden": true
   },
   "outputs": [
    {
     "data": {
      "text/html": [
       "<div>\n",
       "<style scoped>\n",
       "    .dataframe tbody tr th:only-of-type {\n",
       "        vertical-align: middle;\n",
       "    }\n",
       "\n",
       "    .dataframe tbody tr th {\n",
       "        vertical-align: top;\n",
       "    }\n",
       "\n",
       "    .dataframe thead th {\n",
       "        text-align: right;\n",
       "    }\n",
       "</style>\n",
       "<table border=\"1\" class=\"dataframe\">\n",
       "  <thead>\n",
       "    <tr style=\"text-align: right;\">\n",
       "      <th></th>\n",
       "      <th>0</th>\n",
       "    </tr>\n",
       "  </thead>\n",
       "  <tbody>\n",
       "    <tr>\n",
       "      <th>0</th>\n",
       "      <td>1.071019</td>\n",
       "    </tr>\n",
       "    <tr>\n",
       "      <th>1</th>\n",
       "      <td>0.903449</td>\n",
       "    </tr>\n",
       "    <tr>\n",
       "      <th>2</th>\n",
       "      <td>1.150759</td>\n",
       "    </tr>\n",
       "    <tr>\n",
       "      <th>3</th>\n",
       "      <td>0.975746</td>\n",
       "    </tr>\n",
       "    <tr>\n",
       "      <th>4</th>\n",
       "      <td>0.974399</td>\n",
       "    </tr>\n",
       "  </tbody>\n",
       "</table>\n",
       "</div>"
      ],
      "text/plain": [
       "          0\n",
       "0  1.071019\n",
       "1  0.903449\n",
       "2  1.150759\n",
       "3  0.975746\n",
       "4  0.974399"
      ]
     },
     "execution_count": 41,
     "metadata": {},
     "output_type": "execute_result"
    }
   ],
   "source": [
    "dist_std = pd.DataFrame(df_data.std(axis = 1))\n",
    "dist_std"
   ]
  },
  {
   "cell_type": "markdown",
   "metadata": {
    "heading_collapsed": true,
    "hidden": true
   },
   "source": [
    "### Ejemplo: \n",
    "Se eligen muestras ordenadas de tamaño 2, con reemplazo, de la población de valores 0, 2, 4 y 6. Encuentre: la media poblacional $\\mu$, la desviación estándar poblacional $\\sigma$, la media de la distribución muestral de medias $\\mu_{x}$, la desviación estándar de la distribución muestral de medias $\\sigma_{x}$."
   ]
  },
  {
   "cell_type": "code",
   "execution_count": 42,
   "metadata": {
    "ExecuteTime": {
     "end_time": "2020-03-18T22:43:50.924964Z",
     "start_time": "2020-03-18T22:43:50.914547Z"
    },
    "hidden": true
   },
   "outputs": [
    {
     "name": "stdout",
     "output_type": "stream",
     "text": [
      "𝜇: 3.0 𝜎: 2.23606797749979\n"
     ]
    }
   ],
   "source": [
    "data = np.array([0, 2, 4, 6])\n",
    "\n",
    "mu = np.mean(data)\n",
    "sigma = np.std(data)\n",
    "\n",
    "print('𝜇:', mu, '𝜎:', sigma)"
   ]
  },
  {
   "cell_type": "code",
   "execution_count": 43,
   "metadata": {
    "ExecuteTime": {
     "end_time": "2020-03-18T22:43:52.420042Z",
     "start_time": "2020-03-18T22:43:52.396314Z"
    },
    "hidden": true
   },
   "outputs": [
    {
     "data": {
      "text/html": [
       "<div>\n",
       "<style scoped>\n",
       "    .dataframe tbody tr th:only-of-type {\n",
       "        vertical-align: middle;\n",
       "    }\n",
       "\n",
       "    .dataframe tbody tr th {\n",
       "        vertical-align: top;\n",
       "    }\n",
       "\n",
       "    .dataframe thead th {\n",
       "        text-align: right;\n",
       "    }\n",
       "</style>\n",
       "<table border=\"1\" class=\"dataframe\">\n",
       "  <thead>\n",
       "    <tr style=\"text-align: right;\">\n",
       "      <th></th>\n",
       "      <th>Muestras ordenadas</th>\n",
       "      <th>x</th>\n",
       "    </tr>\n",
       "  </thead>\n",
       "  <tbody>\n",
       "    <tr>\n",
       "      <th>0</th>\n",
       "      <td>(0,0)</td>\n",
       "      <td>0</td>\n",
       "    </tr>\n",
       "    <tr>\n",
       "      <th>1</th>\n",
       "      <td>(0,2)</td>\n",
       "      <td>1</td>\n",
       "    </tr>\n",
       "    <tr>\n",
       "      <th>2</th>\n",
       "      <td>(0,4)</td>\n",
       "      <td>2</td>\n",
       "    </tr>\n",
       "    <tr>\n",
       "      <th>3</th>\n",
       "      <td>(0,6)</td>\n",
       "      <td>3</td>\n",
       "    </tr>\n",
       "    <tr>\n",
       "      <th>4</th>\n",
       "      <td>(2,0)</td>\n",
       "      <td>1</td>\n",
       "    </tr>\n",
       "    <tr>\n",
       "      <th>5</th>\n",
       "      <td>(2,2)</td>\n",
       "      <td>2</td>\n",
       "    </tr>\n",
       "    <tr>\n",
       "      <th>6</th>\n",
       "      <td>(2,4)</td>\n",
       "      <td>3</td>\n",
       "    </tr>\n",
       "    <tr>\n",
       "      <th>7</th>\n",
       "      <td>(2,6)</td>\n",
       "      <td>4</td>\n",
       "    </tr>\n",
       "    <tr>\n",
       "      <th>8</th>\n",
       "      <td>(4,0)</td>\n",
       "      <td>2</td>\n",
       "    </tr>\n",
       "    <tr>\n",
       "      <th>9</th>\n",
       "      <td>(4,2)</td>\n",
       "      <td>3</td>\n",
       "    </tr>\n",
       "    <tr>\n",
       "      <th>10</th>\n",
       "      <td>(4,4)</td>\n",
       "      <td>4</td>\n",
       "    </tr>\n",
       "    <tr>\n",
       "      <th>11</th>\n",
       "      <td>(4,6)</td>\n",
       "      <td>5</td>\n",
       "    </tr>\n",
       "    <tr>\n",
       "      <th>12</th>\n",
       "      <td>(6,0)</td>\n",
       "      <td>3</td>\n",
       "    </tr>\n",
       "    <tr>\n",
       "      <th>13</th>\n",
       "      <td>(6,2)</td>\n",
       "      <td>4</td>\n",
       "    </tr>\n",
       "    <tr>\n",
       "      <th>14</th>\n",
       "      <td>(6,4)</td>\n",
       "      <td>5</td>\n",
       "    </tr>\n",
       "    <tr>\n",
       "      <th>15</th>\n",
       "      <td>(6,6)</td>\n",
       "      <td>6</td>\n",
       "    </tr>\n",
       "  </tbody>\n",
       "</table>\n",
       "</div>"
      ],
      "text/plain": [
       "   Muestras ordenadas  x\n",
       "0               (0,0)  0\n",
       "1               (0,2)  1\n",
       "2               (0,4)  2\n",
       "3               (0,6)  3\n",
       "4               (2,0)  1\n",
       "5               (2,2)  2\n",
       "6               (2,4)  3\n",
       "7               (2,6)  4\n",
       "8               (4,0)  2\n",
       "9               (4,2)  3\n",
       "10              (4,4)  4\n",
       "11              (4,6)  5\n",
       "12              (6,0)  3\n",
       "13              (6,2)  4\n",
       "14              (6,4)  5\n",
       "15              (6,6)  6"
      ]
     },
     "execution_count": 43,
     "metadata": {},
     "output_type": "execute_result"
    }
   ],
   "source": [
    "d = {'Muestras ordenadas': ['(0,0)','(0,2)','(0,4)','(0,6)','(2,0)','(2,2)','(2,4)','(2,6)',\n",
    "                            '(4,0)','(4,2)','(4,4)','(4,6)','(6,0)','(6,2)','(6,4)','(6,6)'], \n",
    "     'x': [0,1,2,3,1,2,3,4,2,3,4,5,3,4,5,6]}\n",
    "df = pd.DataFrame(d)\n",
    "df"
   ]
  },
  {
   "cell_type": "code",
   "execution_count": 45,
   "metadata": {
    "ExecuteTime": {
     "end_time": "2020-03-18T22:45:24.336978Z",
     "start_time": "2020-03-18T22:45:24.309820Z"
    },
    "hidden": true
   },
   "outputs": [
    {
     "data": {
      "text/html": [
       "<div>\n",
       "<style scoped>\n",
       "    .dataframe tbody tr th:only-of-type {\n",
       "        vertical-align: middle;\n",
       "    }\n",
       "\n",
       "    .dataframe tbody tr th {\n",
       "        vertical-align: top;\n",
       "    }\n",
       "\n",
       "    .dataframe thead th {\n",
       "        text-align: right;\n",
       "    }\n",
       "</style>\n",
       "<table border=\"1\" class=\"dataframe\">\n",
       "  <thead>\n",
       "    <tr style=\"text-align: right;\">\n",
       "      <th></th>\n",
       "      <th>x</th>\n",
       "    </tr>\n",
       "  </thead>\n",
       "  <tbody>\n",
       "    <tr>\n",
       "      <th>0</th>\n",
       "      <td>1</td>\n",
       "    </tr>\n",
       "    <tr>\n",
       "      <th>1</th>\n",
       "      <td>2</td>\n",
       "    </tr>\n",
       "    <tr>\n",
       "      <th>2</th>\n",
       "      <td>3</td>\n",
       "    </tr>\n",
       "    <tr>\n",
       "      <th>3</th>\n",
       "      <td>4</td>\n",
       "    </tr>\n",
       "    <tr>\n",
       "      <th>4</th>\n",
       "      <td>3</td>\n",
       "    </tr>\n",
       "    <tr>\n",
       "      <th>5</th>\n",
       "      <td>2</td>\n",
       "    </tr>\n",
       "    <tr>\n",
       "      <th>6</th>\n",
       "      <td>1</td>\n",
       "    </tr>\n",
       "  </tbody>\n",
       "</table>\n",
       "</div>"
      ],
      "text/plain": [
       "   x\n",
       "0  1\n",
       "1  2\n",
       "2  3\n",
       "3  4\n",
       "4  3\n",
       "5  2\n",
       "6  1"
      ]
     },
     "execution_count": 45,
     "metadata": {},
     "output_type": "execute_result"
    }
   ],
   "source": [
    "dist_f = df['x'].value_counts()\n",
    "dist_f = pd.DataFrame(dist_f)\n",
    "news_converted = dist_f.sort_index()\n",
    "news_converted"
   ]
  },
  {
   "cell_type": "code",
   "execution_count": 46,
   "metadata": {
    "ExecuteTime": {
     "end_time": "2020-03-18T22:45:36.485018Z",
     "start_time": "2020-03-18T22:45:36.085004Z"
    },
    "hidden": true
   },
   "outputs": [
    {
     "data": {
      "text/plain": [
       "Text(0.5, 0, 'Frecuencia')"
      ]
     },
     "execution_count": 46,
     "metadata": {},
     "output_type": "execute_result"
    },
    {
     "data": {
      "image/png": "[encoded data removed]",
      "text/plain": [
       "<Figure size 432x288 with 1 Axes>"
      ]
     },
     "metadata": {
      "needs_background": "light"
     },
     "output_type": "display_data"
    }
   ],
   "source": [
    "import matplotlib.pyplot as plt\n",
    "\n",
    "tab = pd.crosstab(index = df[\"x\"], columns=\"frecuencia\")\n",
    "plt.bar(tab.index,tab[\"frecuencia\"])\n",
    "plt.xlabel(\"Frecuencia\")"
   ]
  },
  {
   "cell_type": "code",
   "execution_count": 47,
   "metadata": {
    "ExecuteTime": {
     "end_time": "2020-03-18T22:45:58.568385Z",
     "start_time": "2020-03-18T22:45:58.557312Z"
    },
    "hidden": true
   },
   "outputs": [
    {
     "data": {
      "text/plain": [
       "array([0, 1, 2, 3, 4, 5, 6])"
      ]
     },
     "execution_count": 47,
     "metadata": {},
     "output_type": "execute_result"
    }
   ],
   "source": [
    "index = df['x'].unique()\n",
    "index"
   ]
  },
  {
   "cell_type": "markdown",
   "metadata": {
    "hidden": true
   },
   "source": [
    "La media de la distribución muestral de medias es:\n",
    "\n",
    "$\\mu_{\\bar x} = \\frac{\\sum(f\\bar x)}{\\sum f}$"
   ]
  },
  {
   "cell_type": "code",
   "execution_count": 48,
   "metadata": {
    "ExecuteTime": {
     "end_time": "2020-03-18T22:46:06.180121Z",
     "start_time": "2020-03-18T22:46:06.141486Z"
    },
    "hidden": true
   },
   "outputs": [
    {
     "data": {
      "text/plain": [
       "3.0"
      ]
     },
     "execution_count": 48,
     "metadata": {},
     "output_type": "execute_result"
    }
   ],
   "source": [
    "mu_x = (np.sum(index * news_converted['x'])) / len(df['x'])\n",
    "mu_x"
   ]
  },
  {
   "cell_type": "markdown",
   "metadata": {
    "hidden": true
   },
   "source": [
    "La desviación estándar de la distribución muestral de medias es:\n",
    "\n",
    "$\\sigma_{\\bar x} = \\sqrt\\frac{\\sum(\\bar x-\\mu_{\\bar x})²f}{\\sum f}$"
   ]
  },
  {
   "cell_type": "code",
   "execution_count": 51,
   "metadata": {
    "ExecuteTime": {
     "end_time": "2020-03-18T22:52:14.490979Z",
     "start_time": "2020-03-18T22:52:14.480011Z"
    },
    "hidden": true
   },
   "outputs": [
    {
     "data": {
      "text/plain": [
       "1.5811388300841898"
      ]
     },
     "execution_count": 51,
     "metadata": {},
     "output_type": "execute_result"
    }
   ],
   "source": [
    "std_x = np.sqrt(np.sum(((index - mu)**2) * news_converted['x'] )/ len(df['x']))\n",
    "std_x"
   ]
  },
  {
   "cell_type": "markdown",
   "metadata": {
    "hidden": true
   },
   "source": [
    "De aquí que podamos deducir que:\n",
    "\n",
    "$\\sigma_ \\bar x = \\frac{\\sigma}{\\sqrt n}$"
   ]
  },
  {
   "cell_type": "code",
   "execution_count": 52,
   "metadata": {
    "ExecuteTime": {
     "end_time": "2020-03-18T22:56:23.669462Z",
     "start_time": "2020-03-18T22:56:23.655847Z"
    },
    "hidden": true
   },
   "outputs": [
    {
     "data": {
      "text/plain": [
       "1.5811388300841895"
      ]
     },
     "execution_count": 52,
     "metadata": {},
     "output_type": "execute_result"
    }
   ],
   "source": [
    "n = 2\n",
    "s_x = std_p / np.sqrt(n)\n",
    "s_x"
   ]
  },
  {
   "cell_type": "markdown",
   "metadata": {
    "hidden": true
   },
   "source": [
    "## Distribuciones muestrales\n",
    "\n",
    "Después de haber realizado el ejercicio anterior se puede ver que una distribución muestral se genera extrayendo todas las posibles muestras del mismo tamaño de la población y calculándoles a éstas su estadístico.\n",
    "\n",
    "Si la población de la que se extraen las muestras es normal, la distribución muestral de medias será normal sin importar el tamaño de la muestra.\n",
    "\n",
    "Si la población de donde se extraen las muestras no es normal, entonces el tamaño de la muestra debe ser mayor o igual a 30, para que la distribución muestral tenga una forma acampanada. Mientras mayor sea el tamaño de la muestra, más cerca estará la distribución muestral de ser normal.\n",
    "\n",
    "Para muchos propósitos, la aproximación normal se considera buena si se cumple $n = 30$. La forma de la disitribución muestral de medias sea aproximadamente normal, aún en casos donde la población original es bimodal, es realmente notable."
   ]
  },
  {
   "cell_type": "markdown",
   "metadata": {
    "ExecuteTime": {
     "end_time": "2020-03-18T22:56:42.739877Z",
     "start_time": "2020-03-18T22:56:42.726133Z"
    },
    "hidden": true
   },
   "source": [
    "Como para cualquier variable aleatoria, la distribución muestral de medias tiene una media o valor esperado, una varianza y una desviación estándar, se puede demostrar que la distribución muestral de medias tiene una media igual a la media poblacional. Esto es:\n",
    "\n",
    "$\\mu_{\\bar x} = E(\\bar x) = \\mu = 3$"
   ]
  },
  {
   "cell_type": "markdown",
   "metadata": {
    "heading_collapsed": true
   },
   "source": [
    "# Teorema del Límite Central"
   ]
  },
  {
   "cell_type": "markdown",
   "metadata": {
    "hidden": true
   },
   "source": [
    "Si se seleccionan muestras aleatorias de $n$ observaciones de una población con media $\\mu$ y desviación estándar $\\sigma$, entonces, cuando $n$ es grande, la distribución muestral de medias tendrá aproximadamente una distribución normal con una media igual a $\\mu$ y una desviación estándar de $\\sigma / \\sqrt {n}$. La aproximación será cada vez más exacta a medida de que n sea cada vez mayor."
   ]
  },
  {
   "cell_type": "markdown",
   "metadata": {
    "heading_collapsed": true,
    "hidden": true
   },
   "source": [
    "## Ejemplo\n",
    "\n",
    "Para la dsitribución muestral de medias del ejercicio pasado, encuentre:\n",
    "\n",
    "a. El error muestral de cada media\n",
    "\n",
    "b. La media de los errores muestrales \n",
    "\n",
    "c. La desviación estándar de los errores muestrales."
   ]
  },
  {
   "cell_type": "code",
   "execution_count": 55,
   "metadata": {
    "ExecuteTime": {
     "end_time": "2020-03-18T23:06:00.726854Z",
     "start_time": "2020-03-18T23:06:00.715676Z"
    },
    "hidden": true
   },
   "outputs": [
    {
     "name": "stdout",
     "output_type": "stream",
     "text": [
      "𝜇  3.0 𝜎 2.23606797749979\n"
     ]
    }
   ],
   "source": [
    "import numpy as np\n",
    "\n",
    "data = np.array([0, 2, 4, 6])\n",
    "mu = np.mean(data)\n",
    "std_p = np.std(data)\n",
    "print('𝜇 ', mu, '𝜎', std_p)"
   ]
  },
  {
   "cell_type": "code",
   "execution_count": 56,
   "metadata": {
    "ExecuteTime": {
     "end_time": "2020-03-18T23:07:09.148528Z",
     "start_time": "2020-03-18T23:07:09.124139Z"
    },
    "hidden": true
   },
   "outputs": [
    {
     "data": {
      "text/html": [
       "<div>\n",
       "<style scoped>\n",
       "    .dataframe tbody tr th:only-of-type {\n",
       "        vertical-align: middle;\n",
       "    }\n",
       "\n",
       "    .dataframe tbody tr th {\n",
       "        vertical-align: top;\n",
       "    }\n",
       "\n",
       "    .dataframe thead th {\n",
       "        text-align: right;\n",
       "    }\n",
       "</style>\n",
       "<table border=\"1\" class=\"dataframe\">\n",
       "  <thead>\n",
       "    <tr style=\"text-align: right;\">\n",
       "      <th></th>\n",
       "      <th>Muestras ordenadas</th>\n",
       "      <th>x</th>\n",
       "    </tr>\n",
       "  </thead>\n",
       "  <tbody>\n",
       "    <tr>\n",
       "      <th>0</th>\n",
       "      <td>(0,0)</td>\n",
       "      <td>0</td>\n",
       "    </tr>\n",
       "    <tr>\n",
       "      <th>1</th>\n",
       "      <td>(0,2)</td>\n",
       "      <td>1</td>\n",
       "    </tr>\n",
       "    <tr>\n",
       "      <th>2</th>\n",
       "      <td>(0,4)</td>\n",
       "      <td>2</td>\n",
       "    </tr>\n",
       "    <tr>\n",
       "      <th>3</th>\n",
       "      <td>(0,6)</td>\n",
       "      <td>3</td>\n",
       "    </tr>\n",
       "    <tr>\n",
       "      <th>4</th>\n",
       "      <td>(2,0)</td>\n",
       "      <td>1</td>\n",
       "    </tr>\n",
       "    <tr>\n",
       "      <th>5</th>\n",
       "      <td>(2,2)</td>\n",
       "      <td>2</td>\n",
       "    </tr>\n",
       "    <tr>\n",
       "      <th>6</th>\n",
       "      <td>(2,4)</td>\n",
       "      <td>3</td>\n",
       "    </tr>\n",
       "    <tr>\n",
       "      <th>7</th>\n",
       "      <td>(2,6)</td>\n",
       "      <td>4</td>\n",
       "    </tr>\n",
       "    <tr>\n",
       "      <th>8</th>\n",
       "      <td>(4,0)</td>\n",
       "      <td>2</td>\n",
       "    </tr>\n",
       "    <tr>\n",
       "      <th>9</th>\n",
       "      <td>(4,2)</td>\n",
       "      <td>3</td>\n",
       "    </tr>\n",
       "    <tr>\n",
       "      <th>10</th>\n",
       "      <td>(4,4)</td>\n",
       "      <td>4</td>\n",
       "    </tr>\n",
       "    <tr>\n",
       "      <th>11</th>\n",
       "      <td>(4,6)</td>\n",
       "      <td>5</td>\n",
       "    </tr>\n",
       "    <tr>\n",
       "      <th>12</th>\n",
       "      <td>(6,0)</td>\n",
       "      <td>3</td>\n",
       "    </tr>\n",
       "    <tr>\n",
       "      <th>13</th>\n",
       "      <td>(6,2)</td>\n",
       "      <td>4</td>\n",
       "    </tr>\n",
       "    <tr>\n",
       "      <th>14</th>\n",
       "      <td>(6,4)</td>\n",
       "      <td>5</td>\n",
       "    </tr>\n",
       "    <tr>\n",
       "      <th>15</th>\n",
       "      <td>(6,6)</td>\n",
       "      <td>6</td>\n",
       "    </tr>\n",
       "  </tbody>\n",
       "</table>\n",
       "</div>"
      ],
      "text/plain": [
       "   Muestras ordenadas  x\n",
       "0               (0,0)  0\n",
       "1               (0,2)  1\n",
       "2               (0,4)  2\n",
       "3               (0,6)  3\n",
       "4               (2,0)  1\n",
       "5               (2,2)  2\n",
       "6               (2,4)  3\n",
       "7               (2,6)  4\n",
       "8               (4,0)  2\n",
       "9               (4,2)  3\n",
       "10              (4,4)  4\n",
       "11              (4,6)  5\n",
       "12              (6,0)  3\n",
       "13              (6,2)  4\n",
       "14              (6,4)  5\n",
       "15              (6,6)  6"
      ]
     },
     "execution_count": 56,
     "metadata": {},
     "output_type": "execute_result"
    }
   ],
   "source": [
    "import pandas as pd\n",
    "\n",
    "d = {'Muestras ordenadas': ['(0,0)','(0,2)','(0,4)','(0,6)','(2,0)','(2,2)','(2,4)','(2,6)',\n",
    "                            '(4,0)','(4,2)','(4,4)','(4,6)','(6,0)','(6,2)','(6,4)','(6,6)'], \n",
    "     'x': [0,1,2,3,1,2,3,4,2,3,4,5,3,4,5,6]}\n",
    "df = pd.DataFrame(d)\n",
    "df"
   ]
  },
  {
   "cell_type": "code",
   "execution_count": 57,
   "metadata": {
    "ExecuteTime": {
     "end_time": "2020-03-18T23:07:22.763202Z",
     "start_time": "2020-03-18T23:07:22.755102Z"
    },
    "hidden": true
   },
   "outputs": [],
   "source": [
    "e = df['x'] - mu\n",
    "df.insert(2, \"e\", e, True) "
   ]
  },
  {
   "cell_type": "code",
   "execution_count": 58,
   "metadata": {
    "ExecuteTime": {
     "end_time": "2020-03-18T23:07:32.405332Z",
     "start_time": "2020-03-18T23:07:32.381181Z"
    },
    "hidden": true
   },
   "outputs": [
    {
     "data": {
      "text/html": [
       "<div>\n",
       "<style scoped>\n",
       "    .dataframe tbody tr th:only-of-type {\n",
       "        vertical-align: middle;\n",
       "    }\n",
       "\n",
       "    .dataframe tbody tr th {\n",
       "        vertical-align: top;\n",
       "    }\n",
       "\n",
       "    .dataframe thead th {\n",
       "        text-align: right;\n",
       "    }\n",
       "</style>\n",
       "<table border=\"1\" class=\"dataframe\">\n",
       "  <thead>\n",
       "    <tr style=\"text-align: right;\">\n",
       "      <th></th>\n",
       "      <th>Muestras ordenadas</th>\n",
       "      <th>x</th>\n",
       "      <th>e</th>\n",
       "    </tr>\n",
       "  </thead>\n",
       "  <tbody>\n",
       "    <tr>\n",
       "      <th>0</th>\n",
       "      <td>(0,0)</td>\n",
       "      <td>0</td>\n",
       "      <td>-3.0</td>\n",
       "    </tr>\n",
       "    <tr>\n",
       "      <th>1</th>\n",
       "      <td>(0,2)</td>\n",
       "      <td>1</td>\n",
       "      <td>-2.0</td>\n",
       "    </tr>\n",
       "    <tr>\n",
       "      <th>2</th>\n",
       "      <td>(0,4)</td>\n",
       "      <td>2</td>\n",
       "      <td>-1.0</td>\n",
       "    </tr>\n",
       "    <tr>\n",
       "      <th>3</th>\n",
       "      <td>(0,6)</td>\n",
       "      <td>3</td>\n",
       "      <td>0.0</td>\n",
       "    </tr>\n",
       "    <tr>\n",
       "      <th>4</th>\n",
       "      <td>(2,0)</td>\n",
       "      <td>1</td>\n",
       "      <td>-2.0</td>\n",
       "    </tr>\n",
       "    <tr>\n",
       "      <th>5</th>\n",
       "      <td>(2,2)</td>\n",
       "      <td>2</td>\n",
       "      <td>-1.0</td>\n",
       "    </tr>\n",
       "    <tr>\n",
       "      <th>6</th>\n",
       "      <td>(2,4)</td>\n",
       "      <td>3</td>\n",
       "      <td>0.0</td>\n",
       "    </tr>\n",
       "    <tr>\n",
       "      <th>7</th>\n",
       "      <td>(2,6)</td>\n",
       "      <td>4</td>\n",
       "      <td>1.0</td>\n",
       "    </tr>\n",
       "    <tr>\n",
       "      <th>8</th>\n",
       "      <td>(4,0)</td>\n",
       "      <td>2</td>\n",
       "      <td>-1.0</td>\n",
       "    </tr>\n",
       "    <tr>\n",
       "      <th>9</th>\n",
       "      <td>(4,2)</td>\n",
       "      <td>3</td>\n",
       "      <td>0.0</td>\n",
       "    </tr>\n",
       "    <tr>\n",
       "      <th>10</th>\n",
       "      <td>(4,4)</td>\n",
       "      <td>4</td>\n",
       "      <td>1.0</td>\n",
       "    </tr>\n",
       "    <tr>\n",
       "      <th>11</th>\n",
       "      <td>(4,6)</td>\n",
       "      <td>5</td>\n",
       "      <td>2.0</td>\n",
       "    </tr>\n",
       "    <tr>\n",
       "      <th>12</th>\n",
       "      <td>(6,0)</td>\n",
       "      <td>3</td>\n",
       "      <td>0.0</td>\n",
       "    </tr>\n",
       "    <tr>\n",
       "      <th>13</th>\n",
       "      <td>(6,2)</td>\n",
       "      <td>4</td>\n",
       "      <td>1.0</td>\n",
       "    </tr>\n",
       "    <tr>\n",
       "      <th>14</th>\n",
       "      <td>(6,4)</td>\n",
       "      <td>5</td>\n",
       "      <td>2.0</td>\n",
       "    </tr>\n",
       "    <tr>\n",
       "      <th>15</th>\n",
       "      <td>(6,6)</td>\n",
       "      <td>6</td>\n",
       "      <td>3.0</td>\n",
       "    </tr>\n",
       "  </tbody>\n",
       "</table>\n",
       "</div>"
      ],
      "text/plain": [
       "   Muestras ordenadas  x    e\n",
       "0               (0,0)  0 -3.0\n",
       "1               (0,2)  1 -2.0\n",
       "2               (0,4)  2 -1.0\n",
       "3               (0,6)  3  0.0\n",
       "4               (2,0)  1 -2.0\n",
       "5               (2,2)  2 -1.0\n",
       "6               (2,4)  3  0.0\n",
       "7               (2,6)  4  1.0\n",
       "8               (4,0)  2 -1.0\n",
       "9               (4,2)  3  0.0\n",
       "10              (4,4)  4  1.0\n",
       "11              (4,6)  5  2.0\n",
       "12              (6,0)  3  0.0\n",
       "13              (6,2)  4  1.0\n",
       "14              (6,4)  5  2.0\n",
       "15              (6,6)  6  3.0"
      ]
     },
     "execution_count": 58,
     "metadata": {},
     "output_type": "execute_result"
    }
   ],
   "source": [
    "df"
   ]
  },
  {
   "cell_type": "markdown",
   "metadata": {
    "hidden": true
   },
   "source": [
    "La media de los errores muestrales es e, es:"
   ]
  },
  {
   "cell_type": "code",
   "execution_count": 61,
   "metadata": {
    "ExecuteTime": {
     "end_time": "2020-03-18T23:09:58.243333Z",
     "start_time": "2020-03-18T23:09:58.234714Z"
    },
    "hidden": true
   },
   "outputs": [
    {
     "data": {
      "text/plain": [
       "0.0"
      ]
     },
     "execution_count": 61,
     "metadata": {},
     "output_type": "execute_result"
    }
   ],
   "source": [
    "mean_e = df['e'].mean()\n",
    "mean_e"
   ]
  },
  {
   "cell_type": "code",
   "execution_count": 62,
   "metadata": {
    "ExecuteTime": {
     "end_time": "2020-03-18T23:11:14.916512Z",
     "start_time": "2020-03-18T23:11:14.895338Z"
    },
    "hidden": true
   },
   "outputs": [
    {
     "data": {
      "text/html": [
       "<div>\n",
       "<style scoped>\n",
       "    .dataframe tbody tr th:only-of-type {\n",
       "        vertical-align: middle;\n",
       "    }\n",
       "\n",
       "    .dataframe tbody tr th {\n",
       "        vertical-align: top;\n",
       "    }\n",
       "\n",
       "    .dataframe thead th {\n",
       "        text-align: right;\n",
       "    }\n",
       "</style>\n",
       "<table border=\"1\" class=\"dataframe\">\n",
       "  <thead>\n",
       "    <tr style=\"text-align: right;\">\n",
       "      <th></th>\n",
       "      <th>e</th>\n",
       "    </tr>\n",
       "  </thead>\n",
       "  <tbody>\n",
       "    <tr>\n",
       "      <th>-3.0</th>\n",
       "      <td>1</td>\n",
       "    </tr>\n",
       "    <tr>\n",
       "      <th>-2.0</th>\n",
       "      <td>2</td>\n",
       "    </tr>\n",
       "    <tr>\n",
       "      <th>-1.0</th>\n",
       "      <td>3</td>\n",
       "    </tr>\n",
       "    <tr>\n",
       "      <th>0.0</th>\n",
       "      <td>4</td>\n",
       "    </tr>\n",
       "    <tr>\n",
       "      <th>1.0</th>\n",
       "      <td>3</td>\n",
       "    </tr>\n",
       "    <tr>\n",
       "      <th>2.0</th>\n",
       "      <td>2</td>\n",
       "    </tr>\n",
       "    <tr>\n",
       "      <th>3.0</th>\n",
       "      <td>1</td>\n",
       "    </tr>\n",
       "  </tbody>\n",
       "</table>\n",
       "</div>"
      ],
      "text/plain": [
       "      e\n",
       "-3.0  1\n",
       "-2.0  2\n",
       "-1.0  3\n",
       " 0.0  4\n",
       " 1.0  3\n",
       " 2.0  2\n",
       " 3.0  1"
      ]
     },
     "execution_count": 62,
     "metadata": {},
     "output_type": "execute_result"
    }
   ],
   "source": [
    "dist_e = df['e'].value_counts()\n",
    "dist_e = pd.DataFrame(dist_e)\n",
    "news_e = dist_e.sort_index()\n",
    "news_e"
   ]
  },
  {
   "cell_type": "code",
   "execution_count": 63,
   "metadata": {
    "ExecuteTime": {
     "end_time": "2020-03-18T23:11:42.886636Z",
     "start_time": "2020-03-18T23:11:42.871657Z"
    },
    "hidden": true
   },
   "outputs": [
    {
     "data": {
      "text/plain": [
       "array([-3., -2., -1.,  0.,  1.,  2.,  3.])"
      ]
     },
     "execution_count": 63,
     "metadata": {},
     "output_type": "execute_result"
    }
   ],
   "source": [
    "index = df['e'].unique()\n",
    "index"
   ]
  },
  {
   "cell_type": "markdown",
   "metadata": {
    "hidden": true
   },
   "source": [
    "La desviación estándar de la distribución de los errores muestrales $\\sigma_e$, es entonces:"
   ]
  },
  {
   "cell_type": "code",
   "execution_count": 64,
   "metadata": {
    "ExecuteTime": {
     "end_time": "2020-03-18T23:11:55.547636Z",
     "start_time": "2020-03-18T23:11:55.533235Z"
    },
    "hidden": true
   },
   "outputs": [
    {
     "data": {
      "text/plain": [
       "1.5811388300841898"
      ]
     },
     "execution_count": 64,
     "metadata": {},
     "output_type": "execute_result"
    }
   ],
   "source": [
    "std_x = np.sqrt(np.sum(((index - mean_e)**2) * news_e['e'] )/ len(df['x']))\n",
    "std_x"
   ]
  },
  {
   "cell_type": "markdown",
   "metadata": {
    "hidden": true
   },
   "source": [
    "La desviación estándar de la distribución muestral de un estadístico se conoce como **error estándar del estadístico**. Para el ejercicio anterior el error estándar de la media denotado por $x$, es $1.58$. Con esto se puede demostrar que si de una población se eligen muestras de tamaño $n$ con reemplazo, entonces el error estándar de la media es igual a la desviación estándar de la distribución de los errores muestrales.\n",
    "\n",
    "$\\sigma_{x} = \\sigma_{e}$\n",
    "\n",
    "Cuando las muestras se toman de una población pequeña y sin reemplazo, se puede usar la formula siguiente para encontrar $\\sigma_{x}$ :\n",
    "\n",
    "$\\sigma_{x} = \\frac{\\sigma}{\\sqrt{n}}\\sqrt{\\frac{N-n}{N-1}}$\n",
    "\n",
    "donde $\\sigma$ es la desviación estándar de la  población de donde se toman las muestras, $n$ es el tamaño de la muestra y $N$ el de la población.\n",
    "\n",
    "Como regla de cálculo, si el muestreo se hace sin reemplazo y el tamaño de la población es al menos $20$ veces el tamaño de la muestra $(N\\geq20n)$, entonces se puede usar la fórmula.\n",
    "\n",
    "El factor $\\sqrt{\\frac{N-n}{N-1}}$ se denomina **factor de corrección** para una población finita."
   ]
  },
  {
   "cell_type": "markdown",
   "metadata": {
    "heading_collapsed": true,
    "hidden": true
   },
   "source": [
    "### Ejemplo\n",
    "Suponga que la tabla siguiente muestra la antigüedad en años en el trabajo de tres maestros universitarios de matemáticas:"
   ]
  },
  {
   "cell_type": "code",
   "execution_count": 65,
   "metadata": {
    "ExecuteTime": {
     "end_time": "2020-03-18T23:13:14.015499Z",
     "start_time": "2020-03-18T23:13:13.991868Z"
    },
    "hidden": true
   },
   "outputs": [
    {
     "data": {
      "text/html": [
       "<div>\n",
       "<style scoped>\n",
       "    .dataframe tbody tr th:only-of-type {\n",
       "        vertical-align: middle;\n",
       "    }\n",
       "\n",
       "    .dataframe tbody tr th {\n",
       "        vertical-align: top;\n",
       "    }\n",
       "\n",
       "    .dataframe thead th {\n",
       "        text-align: right;\n",
       "    }\n",
       "</style>\n",
       "<table border=\"1\" class=\"dataframe\">\n",
       "  <thead>\n",
       "    <tr style=\"text-align: right;\">\n",
       "      <th></th>\n",
       "      <th>Maestro de matemáticas</th>\n",
       "      <th>Antigüedad</th>\n",
       "    </tr>\n",
       "  </thead>\n",
       "  <tbody>\n",
       "    <tr>\n",
       "      <th>0</th>\n",
       "      <td>A</td>\n",
       "      <td>6</td>\n",
       "    </tr>\n",
       "    <tr>\n",
       "      <th>1</th>\n",
       "      <td>B</td>\n",
       "      <td>4</td>\n",
       "    </tr>\n",
       "    <tr>\n",
       "      <th>2</th>\n",
       "      <td>C</td>\n",
       "      <td>2</td>\n",
       "    </tr>\n",
       "  </tbody>\n",
       "</table>\n",
       "</div>"
      ],
      "text/plain": [
       "  Maestro de matemáticas  Antigüedad\n",
       "0                      A           6\n",
       "1                      B           4\n",
       "2                      C           2"
      ]
     },
     "execution_count": 65,
     "metadata": {},
     "output_type": "execute_result"
    }
   ],
   "source": [
    "data = {'Maestro de matemáticas': ['A', 'B', 'C'],\n",
    "        'Antigüedad': [6,4,2]}\n",
    "df = pd.DataFrame(data)\n",
    "df"
   ]
  },
  {
   "cell_type": "markdown",
   "metadata": {
    "hidden": true
   },
   "source": [
    "Suponga además que se seleccionan muestras aleatorias de tamaño $2$ sin reemplazo. Calcule la antigüedad media para cada muestra, la media de la distribución muestral y el error estándar, o la desviación estándar de la distribución muestral."
   ]
  },
  {
   "cell_type": "code",
   "execution_count": 66,
   "metadata": {
    "ExecuteTime": {
     "end_time": "2020-03-18T23:16:36.720415Z",
     "start_time": "2020-03-18T23:16:36.688334Z"
    },
    "hidden": true
   },
   "outputs": [
    {
     "data": {
      "text/html": [
       "<div>\n",
       "<style scoped>\n",
       "    .dataframe tbody tr th:only-of-type {\n",
       "        vertical-align: middle;\n",
       "    }\n",
       "\n",
       "    .dataframe tbody tr th {\n",
       "        vertical-align: top;\n",
       "    }\n",
       "\n",
       "    .dataframe thead th {\n",
       "        text-align: right;\n",
       "    }\n",
       "</style>\n",
       "<table border=\"1\" class=\"dataframe\">\n",
       "  <thead>\n",
       "    <tr style=\"text-align: right;\">\n",
       "      <th></th>\n",
       "      <th>Muestras</th>\n",
       "      <th>Antigüedad</th>\n",
       "      <th>Media Muestral</th>\n",
       "    </tr>\n",
       "  </thead>\n",
       "  <tbody>\n",
       "    <tr>\n",
       "      <th>0</th>\n",
       "      <td>A,B</td>\n",
       "      <td>(6, 4)</td>\n",
       "      <td>5</td>\n",
       "    </tr>\n",
       "    <tr>\n",
       "      <th>1</th>\n",
       "      <td>A,C</td>\n",
       "      <td>(6, 2)</td>\n",
       "      <td>4</td>\n",
       "    </tr>\n",
       "    <tr>\n",
       "      <th>2</th>\n",
       "      <td>B,C</td>\n",
       "      <td>(4, 2)</td>\n",
       "      <td>3</td>\n",
       "    </tr>\n",
       "  </tbody>\n",
       "</table>\n",
       "</div>"
      ],
      "text/plain": [
       "  Muestras Antigüedad  Media Muestral\n",
       "0      A,B     (6, 4)               5\n",
       "1      A,C     (6, 2)               4\n",
       "2      B,C     (4, 2)               3"
      ]
     },
     "execution_count": 66,
     "metadata": {},
     "output_type": "execute_result"
    }
   ],
   "source": [
    "data_m = {'Muestras': ['A,B', 'A,C', 'B,C'],\n",
    "        'Antigüedad': [(6,4),(6,2),(4,2)],\n",
    "        'Media Muestral': [5,4,3]}\n",
    "df_m = pd.DataFrame(data_m)\n",
    "df_m"
   ]
  },
  {
   "cell_type": "code",
   "execution_count": 67,
   "metadata": {
    "ExecuteTime": {
     "end_time": "2020-03-18T23:17:16.857697Z",
     "start_time": "2020-03-18T23:17:16.848298Z"
    },
    "hidden": true
   },
   "outputs": [
    {
     "data": {
      "text/plain": [
       "4.0"
      ]
     },
     "execution_count": 67,
     "metadata": {},
     "output_type": "execute_result"
    }
   ],
   "source": [
    "mu = df['Antigüedad'].mean()\n",
    "mu"
   ]
  },
  {
   "cell_type": "code",
   "execution_count": 68,
   "metadata": {
    "ExecuteTime": {
     "end_time": "2020-03-18T23:17:34.729108Z",
     "start_time": "2020-03-18T23:17:34.721080Z"
    },
    "hidden": true
   },
   "outputs": [
    {
     "data": {
      "text/plain": [
       "4.0"
      ]
     },
     "execution_count": 68,
     "metadata": {},
     "output_type": "execute_result"
    }
   ],
   "source": [
    "mu_m = df_m['Media Muestral'].mean()\n",
    "mu_m"
   ]
  },
  {
   "cell_type": "code",
   "execution_count": 69,
   "metadata": {
    "ExecuteTime": {
     "end_time": "2020-03-18T23:18:14.755184Z",
     "start_time": "2020-03-18T23:18:14.746802Z"
    },
    "hidden": true
   },
   "outputs": [
    {
     "data": {
      "text/plain": [
       "1.632993161855452"
      ]
     },
     "execution_count": 69,
     "metadata": {},
     "output_type": "execute_result"
    }
   ],
   "source": [
    "std_p = np.std(df['Antigüedad'])\n",
    "std_p"
   ]
  },
  {
   "cell_type": "code",
   "execution_count": 70,
   "metadata": {
    "ExecuteTime": {
     "end_time": "2020-03-18T23:18:21.588467Z",
     "start_time": "2020-03-18T23:18:21.576336Z"
    },
    "hidden": true
   },
   "outputs": [
    {
     "data": {
      "text/plain": [
       "0.816496580927726"
      ]
     },
     "execution_count": 70,
     "metadata": {},
     "output_type": "execute_result"
    }
   ],
   "source": [
    "std_x = np.sqrt(np.sum(((df_m['Media Muestral'] - mu)**2))/ len(df_m['Media Muestral']))\n",
    "std_x"
   ]
  },
  {
   "cell_type": "markdown",
   "metadata": {
    "hidden": true
   },
   "source": [
    "Si utilizamos la fórmula del error estándar sin el factor de correción tendriamos que:"
   ]
  },
  {
   "cell_type": "code",
   "execution_count": 71,
   "metadata": {
    "ExecuteTime": {
     "end_time": "2020-03-18T23:21:47.165118Z",
     "start_time": "2020-03-18T23:21:47.153898Z"
    },
    "hidden": true
   },
   "outputs": [
    {
     "data": {
      "text/plain": [
       "1.1547005383792515"
      ]
     },
     "execution_count": 71,
     "metadata": {},
     "output_type": "execute_result"
    }
   ],
   "source": [
    "n = 2\n",
    "std = std_p / np.sqrt(n)\n",
    "std"
   ]
  },
  {
   "cell_type": "markdown",
   "metadata": {
    "hidden": true
   },
   "source": [
    "Por lo que observamos que este valor no es el verdadero. Agregando el factor de corrección obtendremos el valor correcto:"
   ]
  },
  {
   "cell_type": "code",
   "execution_count": 74,
   "metadata": {
    "ExecuteTime": {
     "end_time": "2020-03-18T23:22:31.698521Z",
     "start_time": "2020-03-18T23:22:31.689830Z"
    },
    "hidden": true
   },
   "outputs": [
    {
     "data": {
      "text/plain": [
       "0.816496580927726"
      ]
     },
     "execution_count": 74,
     "metadata": {},
     "output_type": "execute_result"
    }
   ],
   "source": [
    "N = 3\n",
    "root = np.sqrt((N - n) / (N - 1))\n",
    "correct_value = std * root\n",
    "correct_value"
   ]
  },
  {
   "cell_type": "markdown",
   "metadata": {
    "heading_collapsed": true,
    "hidden": true
   },
   "source": [
    "## Distribución Muestral de Medias\n",
    "\n",
    "Si recordamos a la distribución normal, esta es una distribución continua, en forma de campana en donde la media, la mediana y la moda tienen un mismo valor y es simétrica.\n",
    "\n",
    "Con esta distribución podíamos calcular la probabilidad de algún evento relacionado con la variable aleatoria, mediante la siguiente fórmula:\n",
    "\n",
    "$z = \\frac{x - \\mu}{\\sigma}$\n",
    "\n",
    "En donde $z$ es una variable estandarizada con media igual a cero y varianza igual a uno. Con esta fórmula se pueden a hacer los cálculos de probabilidad para cualquier ejercicio, utilizando la tabla de la distribución $z$.\n",
    "\n",
    "Sabemos que cuando se extraen muestras de tamaño mayor a $30$ o bien de cualquier tamaño de una población normal, la distribución muestral de medias tiene un comportamiento aproximadamente normal, por lo que se puede utilizar la fórmula de la distribución normal con $\\mu = \\mu_{\\bar x}$ y $\\sigma = \\sigma_{\\bar x}$, entonces la fórmula para calcular la probabilidad del comportamiento del estadístico, en este caso la media de la muestra, quedaría de la siguiente manera:\n",
    "\n",
    "$z = \\frac{\\bar x - u}{\\frac{\\sigma}{\\sqrt n}}$\n",
    "\n",
    "y para poblaciones finitas y muestro con reemplazo:\n",
    "\n",
    "$z = \\frac{\\bar x - u}{\\frac{\\sigma}{\\sqrt n} \\sqrt \\frac{N - n}{N - 1}}$"
   ]
  },
  {
   "cell_type": "markdown",
   "metadata": {
    "heading_collapsed": true,
    "hidden": true
   },
   "source": [
    "### Ejemplo:\n",
    "\n",
    "Una empresa eléctrica fabrica focos que tienen una duración que se distribuye aproximadamente en forma normal, con media de $800$ horas y desviación estándar de $40$ horas. Encuentre la probabilidad de que una muestra aleatoria de $16$ focos tenga una vida promedio de menos de $775$ horas."
   ]
  },
  {
   "cell_type": "code",
   "execution_count": 75,
   "metadata": {
    "ExecuteTime": {
     "end_time": "2020-03-18T23:25:11.498478Z",
     "start_time": "2020-03-18T23:25:10.751350Z"
    },
    "hidden": true
   },
   "outputs": [
    {
     "data": {
      "image/png": "[encoded data removed]",
      "text/plain": [
       "<Figure size 432x288 with 1 Axes>"
      ]
     },
     "metadata": {
      "needs_background": "light"
     },
     "output_type": "display_data"
    }
   ],
   "source": [
    "%matplotlib inline\n",
    "import matplotlib.pyplot as plt\n",
    "import numpy as np \n",
    "from scipy import stats \n",
    "import seaborn as sns \n",
    "\n",
    "n = 16\n",
    "# parametros esteticos de seaborn\n",
    "sns.set_palette(\"deep\", desat=.6)\n",
    "sns.set_context(rc={\"figure.figsize\": (8, 4)})\n",
    "# Graficando Normal\n",
    "mu, sigma = 800, 40 # media y desvio estandar\n",
    "normal = stats.norm(mu, sigma)\n",
    "x = np.linspace(normal.ppf(0.01),\n",
    "                normal.ppf(0.99), n)\n",
    "fp = normal.pdf(x) # Función de Probabilidad\n",
    "plt.plot(x, fp)\n",
    "\n",
    "xcoords = [775]\n",
    "colors = ['b']\n",
    "for xc,c in zip(xcoords,colors):\n",
    "    plt.axvline(x=xc, label='line at x = {}'.format(xc), c=c)\n",
    "\n",
    "plt.legend()\n",
    "plt.grid(color='gray', linestyle='-', linewidth=1)\n",
    "plt.title('Distribución Normal')\n",
    "plt.ylabel('probabilidad')\n",
    "plt.xlabel('valores')\n",
    "plt.show()"
   ]
  },
  {
   "cell_type": "code",
   "execution_count": 76,
   "metadata": {
    "ExecuteTime": {
     "end_time": "2020-03-18T23:25:41.775289Z",
     "start_time": "2020-03-18T23:25:41.766011Z"
    },
    "hidden": true
   },
   "outputs": [
    {
     "data": {
      "text/plain": [
       "-2.5"
      ]
     },
     "execution_count": 76,
     "metadata": {},
     "output_type": "execute_result"
    }
   ],
   "source": [
    "z = (775 - mu) / (sigma / np.sqrt(n))\n",
    "z"
   ]
  },
  {
   "cell_type": "code",
   "execution_count": 78,
   "metadata": {
    "ExecuteTime": {
     "end_time": "2020-03-18T23:27:21.077283Z",
     "start_time": "2020-03-18T23:27:21.068333Z"
    },
    "hidden": true
   },
   "outputs": [
    {
     "data": {
      "text/plain": [
       "0.006209665325776132"
      ]
     },
     "execution_count": 78,
     "metadata": {},
     "output_type": "execute_result"
    }
   ],
   "source": [
    "from scipy.stats import norm \n",
    "norm.cdf(z) #Este valor es semejante al de la tabla de z."
   ]
  },
  {
   "cell_type": "markdown",
   "metadata": {
    "hidden": true
   },
   "source": [
    "$P(\\bar x \\leq 775) = P(z \\leq -2.5) = 0.0062$\n",
    "\n",
    "La interpretación sería que la probabilidad de que la media de la muestra de 16 focos sea menor a $775$ horas es de $0.0062$.\n"
   ]
  },
  {
   "cell_type": "markdown",
   "metadata": {
    "heading_collapsed": true,
    "hidden": true
   },
   "source": [
    "### Ejemplo\n",
    "\n",
    "Las estaturas de $1000$ estudiantes están distribuidas aproximadamente en forma normal con una media de $174.5$ centímetros y una desviación estándar de $6.9$ centímetros. Si se extraen $200$ muestras aleatorias de tamaño $25$ sin reemplazo de esta población, determine:\n",
    "\n",
    "a. El número de las medias muestrales que caen entre $172.5$ y $175.8$ centímetros.\n",
    "\n",
    "b. El número de medias muestrales que caen por debajo de $172$ centímetros."
   ]
  },
  {
   "cell_type": "code",
   "execution_count": 79,
   "metadata": {
    "ExecuteTime": {
     "end_time": "2020-03-18T23:29:16.586264Z",
     "start_time": "2020-03-18T23:29:16.222802Z"
    },
    "hidden": true
   },
   "outputs": [
    {
     "data": {
      "image/png": "[encoded data removed]",
      "text/plain": [
       "<Figure size 432x288 with 1 Axes>"
      ]
     },
     "metadata": {
      "needs_background": "light"
     },
     "output_type": "display_data"
    }
   ],
   "source": [
    "n = 1000\n",
    "# parametros esteticos de seaborn\n",
    "sns.set_palette(\"deep\", desat=.6)\n",
    "sns.set_context(rc={\"figure.figsize\": (8, 4)})\n",
    "# Graficando Normal\n",
    "mu, sigma = 174.5, 6.9 # media y desvio estandar\n",
    "normal = stats.norm(mu, sigma)\n",
    "x = np.linspace(normal.ppf(0.01),\n",
    "                normal.ppf(0.99), n)\n",
    "fp = normal.pdf(x) # Función de Probabilidad\n",
    "plt.plot(x, fp)\n",
    "\n",
    "xcoords = [172.5, 175.8]\n",
    "colors = ['r', 'b']\n",
    "for xc,c in zip(xcoords,colors):\n",
    "    plt.axvline(x=xc, label='line at x = {}'.format(xc), c=c)\n",
    "\n",
    "plt.legend()\n",
    "plt.grid(color='gray', linestyle='-', linewidth=1)\n",
    "plt.title('Distribución Normal')\n",
    "plt.ylabel('probabilidad')\n",
    "plt.xlabel('valores')\n",
    "plt.show()"
   ]
  },
  {
   "cell_type": "markdown",
   "metadata": {
    "hidden": true
   },
   "source": [
    "Como se puede observar en este ejercicio se cuenta con una población finita y un muestreo sin reemplazo, por lo que se tendrá que agregar el factor de corrección. Se procederá a calcular el denominador de  z  para sólo sustituirlo en cada inciso."
   ]
  },
  {
   "cell_type": "code",
   "execution_count": 80,
   "metadata": {
    "ExecuteTime": {
     "end_time": "2020-03-18T23:29:47.381785Z",
     "start_time": "2020-03-18T23:29:47.368253Z"
    },
    "hidden": true
   },
   "outputs": [
    {
     "data": {
      "text/plain": [
       "1.3800000000000001"
      ]
     },
     "execution_count": 80,
     "metadata": {},
     "output_type": "execute_result"
    }
   ],
   "source": [
    "n = 25\n",
    "std = sigma / np.sqrt(n)\n",
    "std"
   ]
  },
  {
   "cell_type": "code",
   "execution_count": 81,
   "metadata": {
    "ExecuteTime": {
     "end_time": "2020-03-18T23:29:58.183495Z",
     "start_time": "2020-03-18T23:29:58.172994Z"
    },
    "hidden": true
   },
   "outputs": [
    {
     "data": {
      "text/plain": [
       "1.3633226502367841"
      ]
     },
     "execution_count": 81,
     "metadata": {},
     "output_type": "execute_result"
    }
   ],
   "source": [
    "N = 1000\n",
    "root = np.sqrt((N - n) / (N - 1))\n",
    "correct_value = std * root\n",
    "correct_value"
   ]
  },
  {
   "cell_type": "code",
   "execution_count": 82,
   "metadata": {
    "ExecuteTime": {
     "end_time": "2020-03-18T23:30:48.993805Z",
     "start_time": "2020-03-18T23:30:48.985201Z"
    },
    "hidden": true
   },
   "outputs": [
    {
     "data": {
      "text/plain": [
       "-1.4670041604990842"
      ]
     },
     "execution_count": 82,
     "metadata": {},
     "output_type": "execute_result"
    }
   ],
   "source": [
    "z_1 = (172.5 - mu) / correct_value\n",
    "z_1"
   ]
  },
  {
   "cell_type": "code",
   "execution_count": 83,
   "metadata": {
    "ExecuteTime": {
     "end_time": "2020-03-18T23:30:55.143739Z",
     "start_time": "2020-03-18T23:30:55.134909Z"
    },
    "hidden": true
   },
   "outputs": [
    {
     "data": {
      "text/plain": [
       "0.9535527043244131"
      ]
     },
     "execution_count": 83,
     "metadata": {},
     "output_type": "execute_result"
    }
   ],
   "source": [
    "z_2 = (175.8 - mu) / correct_value\n",
    "z_2"
   ]
  },
  {
   "cell_type": "code",
   "execution_count": 87,
   "metadata": {
    "ExecuteTime": {
     "end_time": "2020-03-18T23:33:06.752386Z",
     "start_time": "2020-03-18T23:33:06.743603Z"
    },
    "hidden": true
   },
   "outputs": [
    {
     "name": "stdout",
     "output_type": "stream",
     "text": [
      "0.7586574852739992\n"
     ]
    }
   ],
   "source": [
    "z1 = norm.cdf(z_1)\n",
    "z2 = norm.cdf(z_2)\n",
    "p = z2 - z1\n",
    "print(p)"
   ]
  },
  {
   "cell_type": "markdown",
   "metadata": {
    "hidden": true
   },
   "source": [
    "$P(172.5 \\leq \\bar x \\leq 175.8) = 0.7586$"
   ]
  },
  {
   "cell_type": "code",
   "execution_count": 88,
   "metadata": {
    "ExecuteTime": {
     "end_time": "2020-03-18T23:34:26.892535Z",
     "start_time": "2020-03-18T23:34:26.883230Z"
    },
    "hidden": true
   },
   "outputs": [
    {
     "data": {
      "text/plain": [
       "151.73149705479986"
      ]
     },
     "execution_count": 88,
     "metadata": {},
     "output_type": "execute_result"
    }
   ],
   "source": [
    "m = 200\n",
    "medias_muestrales = p * m\n",
    "medias_muestrales"
   ]
  },
  {
   "cell_type": "code",
   "execution_count": 89,
   "metadata": {
    "ExecuteTime": {
     "end_time": "2020-03-18T23:34:44.995421Z",
     "start_time": "2020-03-18T23:34:44.986003Z"
    },
    "hidden": true
   },
   "outputs": [
    {
     "data": {
      "text/plain": [
       "-1.833755200623855"
      ]
     },
     "execution_count": 89,
     "metadata": {},
     "output_type": "execute_result"
    }
   ],
   "source": [
    "z_3 = (172 - mu) / correct_value\n",
    "z_3"
   ]
  },
  {
   "cell_type": "code",
   "execution_count": 91,
   "metadata": {
    "ExecuteTime": {
     "end_time": "2020-03-18T23:35:54.040578Z",
     "start_time": "2020-03-18T23:35:54.032298Z"
    },
    "hidden": true
   },
   "outputs": [
    {
     "data": {
      "text/plain": [
       "0.033345170256593865"
      ]
     },
     "execution_count": 91,
     "metadata": {},
     "output_type": "execute_result"
    }
   ],
   "source": [
    "p3 = norm.cdf(z_3)\n",
    "p3"
   ]
  },
  {
   "cell_type": "markdown",
   "metadata": {
    "hidden": true
   },
   "source": [
    "$P(\\bar x \\leq 172) = 0.0334$"
   ]
  },
  {
   "cell_type": "code",
   "execution_count": 92,
   "metadata": {
    "ExecuteTime": {
     "end_time": "2020-03-18T23:36:41.540257Z",
     "start_time": "2020-03-18T23:36:41.531720Z"
    },
    "hidden": true
   },
   "outputs": [
    {
     "data": {
      "text/plain": [
       "6.669034051318773"
      ]
     },
     "execution_count": 92,
     "metadata": {},
     "output_type": "execute_result"
    }
   ],
   "source": [
    "medias_muestrales = p3 * m\n",
    "medias_muestrales"
   ]
  },
  {
   "cell_type": "markdown",
   "metadata": {
    "heading_collapsed": true,
    "hidden": true
   },
   "source": [
    "## Distribución muestral de Proporciones\n",
    "\n",
    "Existen ocasiones en las cuales no estamos interesados en la media de la muestra, sino que queremos investigar la proporción de artículos defectuosos o la proporción de alumnos reprobados en la muestra. La distribución muestral de proporciones es la adecuada para dar respuesta a estas situaciones. Esta distribución se genera de igual manera que la distribución muestral de medias, a excepción de que al extraer las muestras de la población se calcula el estadístico proporción ($p = x/n$ en donde $x$ es el número de éxitos u observaciones de interés y $n$ el tamaño de la muestra) en lugar del estadísitico media.\n",
    "\n",
    "Una población binomial está estrechamente relacionada con la distribución muestral de proporciones; una población binomial es una colección de éxitos y fracasos, mientras que una distribución muestral de proporciones contiene las posibilidades o proporciones de todos los números posibles de éxitos en un experimento binomial, y como consecuencia de esta relación, las afirmaciones probabilísticas referentes a la proporción muestral pueden evaluarse usando la aproximación normal a la binomial, siempre que $np \\geq 5$ y\n",
    "$n(1-p) \\geq 5$. Cualquier evento se puede convertir en una proporción si se divide el número obtenido entre el número de intentos.\n"
   ]
  },
  {
   "cell_type": "markdown",
   "metadata": {
    "heading_collapsed": true,
    "hidden": true
   },
   "source": [
    "### Generación de la Distribución Muestral de Proporciones\n",
    "\n",
    "Suponga que se cuenta con un lote de $12$ piezas, el cual tiene $4$ artículos defectuosos. Se van a seleccionar $5$ artículos al azar de ese lote sin reemplazo. Genere la distribución muestral de proporciones para el número de piezas defectuosas.\n",
    "\n",
    "Como se puede observar en este ejercicio la Proporción de artículos defectuosos de esta población es $P = 4/12 = 1/3$. Por lo que podemos decir que el $33\\%$ de las piezas de este lote están defectuosas.\n",
    "\n",
    "Link de coeficientes binomiales: https://es.wikipedia.org/wiki/Coeficiente_binomial\n",
    "\n",
    "El número posible de muestras de tamaño $5$ a extraer de una población de $12$ elementos es $C = 792$, las cuales se pueden desglosar de la siguiente manera:"
   ]
  },
  {
   "cell_type": "code",
   "execution_count": 93,
   "metadata": {
    "ExecuteTime": {
     "end_time": "2020-03-18T23:37:27.799506Z",
     "start_time": "2020-03-18T23:37:27.771662Z"
    },
    "hidden": true
   },
   "outputs": [
    {
     "data": {
      "text/html": [
       "<div>\n",
       "<style scoped>\n",
       "    .dataframe tbody tr th:only-of-type {\n",
       "        vertical-align: middle;\n",
       "    }\n",
       "\n",
       "    .dataframe tbody tr th {\n",
       "        vertical-align: top;\n",
       "    }\n",
       "\n",
       "    .dataframe thead th {\n",
       "        text-align: right;\n",
       "    }\n",
       "</style>\n",
       "<table border=\"1\" class=\"dataframe\">\n",
       "  <thead>\n",
       "    <tr style=\"text-align: right;\">\n",
       "      <th></th>\n",
       "      <th>Art buenos</th>\n",
       "      <th>Art malos</th>\n",
       "      <th>Prop art def</th>\n",
       "      <th>Num de C</th>\n",
       "    </tr>\n",
       "  </thead>\n",
       "  <tbody>\n",
       "    <tr>\n",
       "      <th>0</th>\n",
       "      <td>1</td>\n",
       "      <td>4</td>\n",
       "      <td>0.8</td>\n",
       "      <td>8</td>\n",
       "    </tr>\n",
       "    <tr>\n",
       "      <th>1</th>\n",
       "      <td>2</td>\n",
       "      <td>3</td>\n",
       "      <td>0.6</td>\n",
       "      <td>112</td>\n",
       "    </tr>\n",
       "    <tr>\n",
       "      <th>2</th>\n",
       "      <td>3</td>\n",
       "      <td>2</td>\n",
       "      <td>0.4</td>\n",
       "      <td>336</td>\n",
       "    </tr>\n",
       "    <tr>\n",
       "      <th>3</th>\n",
       "      <td>4</td>\n",
       "      <td>1</td>\n",
       "      <td>0.2</td>\n",
       "      <td>280</td>\n",
       "    </tr>\n",
       "    <tr>\n",
       "      <th>4</th>\n",
       "      <td>5</td>\n",
       "      <td>0</td>\n",
       "      <td>0.0</td>\n",
       "      <td>56</td>\n",
       "    </tr>\n",
       "  </tbody>\n",
       "</table>\n",
       "</div>"
      ],
      "text/plain": [
       "   Art buenos  Art malos  Prop art def  Num de C\n",
       "0           1          4           0.8         8\n",
       "1           2          3           0.6       112\n",
       "2           3          2           0.4       336\n",
       "3           4          1           0.2       280\n",
       "4           5          0           0.0        56"
      ]
     },
     "execution_count": 93,
     "metadata": {},
     "output_type": "execute_result"
    }
   ],
   "source": [
    "d = {'Art buenos': [1,2,3,4,5], \n",
    "     'Art malos': [4,3,2,1,0],\n",
    "     'Prop art def': [0.8,0.6,0.4,0.2,0],\n",
    "     'Num de C': [8,112,336,280,56]}\n",
    "df = pd.DataFrame(d)\n",
    "df"
   ]
  },
  {
   "cell_type": "code",
   "execution_count": 94,
   "metadata": {
    "ExecuteTime": {
     "end_time": "2020-03-18T23:37:34.766181Z",
     "start_time": "2020-03-18T23:37:34.756442Z"
    },
    "hidden": true
   },
   "outputs": [
    {
     "data": {
      "text/plain": [
       "792"
      ]
     },
     "execution_count": 94,
     "metadata": {},
     "output_type": "execute_result"
    }
   ],
   "source": [
    "total = df['Num de C'].sum()\n",
    "total"
   ]
  },
  {
   "cell_type": "markdown",
   "metadata": {
    "hidden": true
   },
   "source": [
    "Para calcular la media de la distribución muestral de proporciones se tendría que hacer la sumatoria de la frecuencia por el valor de la proporción muestral y dividirla entre el número total de muestras. Esto es:"
   ]
  },
  {
   "cell_type": "code",
   "execution_count": 95,
   "metadata": {
    "ExecuteTime": {
     "end_time": "2020-03-18T23:38:14.481811Z",
     "start_time": "2020-03-18T23:38:14.469345Z"
    },
    "hidden": true
   },
   "outputs": [
    {
     "data": {
      "text/plain": [
       "0.3333333333333333"
      ]
     },
     "execution_count": 95,
     "metadata": {},
     "output_type": "execute_result"
    }
   ],
   "source": [
    "mu_p = (np.sum((df['Prop art def'] * df['Num de C']))) / total\n",
    "mu_p"
   ]
  },
  {
   "cell_type": "markdown",
   "metadata": {
    "hidden": true
   },
   "source": [
    "Como podemos observar la media de la distribución muestral de proporciones es igual a la Proporción de la población.\n",
    "\n",
    "$\\mu_{p} = P$\n",
    "\n",
    "También se puede calcular la desviación estándar de la distribución muestral de proporciones:"
   ]
  },
  {
   "cell_type": "code",
   "execution_count": 96,
   "metadata": {
    "ExecuteTime": {
     "end_time": "2020-03-18T23:40:45.172546Z",
     "start_time": "2020-03-18T23:40:45.160506Z"
    },
    "hidden": true
   },
   "outputs": [
    {
     "data": {
      "text/plain": [
       "0.16817499303650432"
      ]
     },
     "execution_count": 96,
     "metadata": {},
     "output_type": "execute_result"
    }
   ],
   "source": [
    "sigma_p = np.sqrt(np.sum(((df['Prop art def'] - mu_p)**2) * df['Num de C']) / total)\n",
    "sigma_p"
   ]
  },
  {
   "cell_type": "markdown",
   "metadata": {
    "hidden": true
   },
   "source": [
    "La varianza de la distribución binomial es $\\sigma ^{2} = npq$, por lo que la varianza de la distribución muestral de proporciones es $\\sigma ^{2}_{p} =(Pq)/n$. Si se sustituten los valores en esta fórmula tenemos que:"
   ]
  },
  {
   "cell_type": "code",
   "execution_count": 97,
   "metadata": {
    "ExecuteTime": {
     "end_time": "2020-03-18T23:41:59.914258Z",
     "start_time": "2020-03-18T23:41:59.903188Z"
    },
    "hidden": true
   },
   "outputs": [
    {
     "data": {
      "text/plain": [
       "0.21081851067789195"
      ]
     },
     "execution_count": 97,
     "metadata": {},
     "output_type": "execute_result"
    }
   ],
   "source": [
    "n = 5\n",
    "q = 1 - mu_p\n",
    "sig_p = np.sqrt((mu_p * q) / n)\n",
    "sig_p"
   ]
  },
  {
   "cell_type": "markdown",
   "metadata": {
    "hidden": true
   },
   "source": [
    "Este valor no coincide con el de 0.1681, ya que nos falta agregar el factor de corrección para una población finita y un muestreo sin reemplazo:"
   ]
  },
  {
   "cell_type": "code",
   "execution_count": 98,
   "metadata": {
    "ExecuteTime": {
     "end_time": "2020-03-18T23:42:20.517803Z",
     "start_time": "2020-03-18T23:42:20.507980Z"
    },
    "hidden": true
   },
   "outputs": [
    {
     "data": {
      "text/plain": [
       "0.16817499303650432"
      ]
     },
     "execution_count": 98,
     "metadata": {},
     "output_type": "execute_result"
    }
   ],
   "source": [
    "N = 12\n",
    "s_p = sig_p * np.sqrt((N-n)/(N-1))\n",
    "s_p"
   ]
  },
  {
   "cell_type": "code",
   "execution_count": 99,
   "metadata": {
    "ExecuteTime": {
     "end_time": "2020-03-18T23:42:45.830927Z",
     "start_time": "2020-03-18T23:42:45.822656Z"
    },
    "hidden": true
   },
   "outputs": [
    {
     "data": {
      "text/plain": [
       "-0.783414794866724"
      ]
     },
     "execution_count": 99,
     "metadata": {},
     "output_type": "execute_result"
    }
   ],
   "source": [
    "z = (s_p - mu_p) / sig_p\n",
    "z"
   ]
  },
  {
   "cell_type": "code",
   "execution_count": 100,
   "metadata": {
    "ExecuteTime": {
     "end_time": "2020-03-18T23:43:21.258254Z",
     "start_time": "2020-03-18T23:43:21.249260Z"
    },
    "hidden": true
   },
   "outputs": [
    {
     "data": {
      "text/plain": [
       "0.2166917854597808"
      ]
     },
     "execution_count": 100,
     "metadata": {},
     "output_type": "execute_result"
    }
   ],
   "source": [
    "norm.cdf(z)"
   ]
  },
  {
   "cell_type": "markdown",
   "metadata": {
    "hidden": true
   },
   "source": [
    "Ejemplo:\n",
    "\n",
    "Se ha determinado que $60\\%$ de los estudiantes de una universidad grande fuman cigarrillos. Se toma una muestra aleatoria de $800$ estudiantes. Calcule la probabilidad de que la proporción de la muestra de la gente que fuma cigarrillos sea menor que $0.55$.\n",
    "\n",
    "Este ejercicio se puede solucionar por dos métodos. El primero puede ser con la aproximación de la distribución normal a la binomial y el segundo utilizando la fórmula de la distribución muestral de proporciones.\n",
    "\n",
    "* Aproximación de la distribución normal a la binomial:"
   ]
  },
  {
   "cell_type": "code",
   "execution_count": 102,
   "metadata": {
    "ExecuteTime": {
     "end_time": "2020-03-18T23:44:00.159549Z",
     "start_time": "2020-03-18T23:44:00.148051Z"
    },
    "hidden": true
   },
   "outputs": [
    {
     "data": {
      "text/plain": [
       "440.00000000000006"
      ]
     },
     "execution_count": 102,
     "metadata": {},
     "output_type": "execute_result"
    }
   ],
   "source": [
    "n = 800\n",
    "p = 0.6\n",
    "q = 1 - p\n",
    "x_est = 0.55 * 800\n",
    "x_est"
   ]
  },
  {
   "cell_type": "code",
   "execution_count": 103,
   "metadata": {
    "ExecuteTime": {
     "end_time": "2020-03-18T23:44:11.039808Z",
     "start_time": "2020-03-18T23:44:11.031598Z"
    },
    "hidden": true
   },
   "outputs": [
    {
     "data": {
      "text/plain": [
       "480.0"
      ]
     },
     "execution_count": 103,
     "metadata": {},
     "output_type": "execute_result"
    }
   ],
   "source": [
    "media = n * p\n",
    "media"
   ]
  },
  {
   "cell_type": "code",
   "execution_count": 104,
   "metadata": {
    "ExecuteTime": {
     "end_time": "2020-03-18T23:44:19.065733Z",
     "start_time": "2020-03-18T23:44:19.057039Z"
    },
    "hidden": true
   },
   "outputs": [
    {
     "data": {
      "text/plain": [
       "-2.886751345948125"
      ]
     },
     "execution_count": 104,
     "metadata": {},
     "output_type": "execute_result"
    }
   ],
   "source": [
    "z = (x_est - media) / np.sqrt(n * p * q)\n",
    "z"
   ]
  },
  {
   "cell_type": "code",
   "execution_count": 105,
   "metadata": {
    "ExecuteTime": {
     "end_time": "2020-03-18T23:44:24.107445Z",
     "start_time": "2020-03-18T23:44:24.096080Z"
    },
    "hidden": true
   },
   "outputs": [
    {
     "data": {
      "text/plain": [
       "0.0019462085613893374"
      ]
     },
     "execution_count": 105,
     "metadata": {},
     "output_type": "execute_result"
    }
   ],
   "source": [
    "norm.cdf(z)"
   ]
  },
  {
   "cell_type": "markdown",
   "metadata": {
    "hidden": true
   },
   "source": [
    "$P(\\bar x \\leq 440) = 0.0019$\n",
    "\n",
    "Este valor significa que existe una probabilidad del $0.19\\%$ de que al extraer una muestra de $800$ estudiantes, menos de $440$ fuman cigarrillos."
   ]
  },
  {
   "cell_type": "code",
   "execution_count": 106,
   "metadata": {
    "ExecuteTime": {
     "end_time": "2020-03-18T23:45:09.019103Z",
     "start_time": "2020-03-18T23:45:09.009234Z"
    },
    "hidden": true
   },
   "outputs": [
    {
     "data": {
      "text/plain": [
       "0.13341674487313598"
      ]
     },
     "execution_count": 106,
     "metadata": {},
     "output_type": "execute_result"
    }
   ],
   "source": [
    "s_p = sig_p * np.sqrt((n - media)/(n-1))\n",
    "s_p"
   ]
  },
  {
   "cell_type": "code",
   "execution_count": 107,
   "metadata": {
    "ExecuteTime": {
     "end_time": "2020-03-18T23:45:26.953697Z",
     "start_time": "2020-03-18T23:45:26.944326Z"
    },
    "hidden": true
   },
   "outputs": [
    {
     "data": {
      "text/plain": [
       "0.4898979485566356"
      ]
     },
     "execution_count": 107,
     "metadata": {},
     "output_type": "execute_result"
    }
   ],
   "source": [
    "sig_p = np.sqrt((media * q) / n)\n",
    "sig_p"
   ]
  },
  {
   "cell_type": "code",
   "execution_count": 108,
   "metadata": {
    "ExecuteTime": {
     "end_time": "2020-03-18T23:49:08.898121Z",
     "start_time": "2020-03-18T23:49:08.538840Z"
    },
    "hidden": true
   },
   "outputs": [
    {
     "data": {
      "image/png": "[encoded data removed]",
      "text/plain": [
       "<Figure size 432x288 with 1 Axes>"
      ]
     },
     "metadata": {
      "needs_background": "light"
     },
     "output_type": "display_data"
    }
   ],
   "source": [
    "n = 800\n",
    "# parametros esteticos de seaborn\n",
    "sns.set_palette(\"deep\", desat=.6)\n",
    "sns.set_context(rc={\"figure.figsize\": (8, 4)})\n",
    "# Graficando Normal\n",
    "mu, sigma = media, 49 # media y desvio estandar\n",
    "normal = stats.norm(mu, sigma)\n",
    "x = np.linspace(normal.ppf(0.01),\n",
    "                normal.ppf(0.99), n)\n",
    "fp = normal.pdf(x) # Función de Probabilidad\n",
    "plt.plot(x, fp)\n",
    "\n",
    "xcoords = [439.5, 480]\n",
    "colors = ['b', 'r']\n",
    "for xc,c in zip(xcoords,colors):\n",
    "    plt.axvline(x=xc, label='line at x = {}'.format(xc), c=c)\n",
    "\n",
    "plt.legend()\n",
    "plt.grid(color='gray', linestyle='-', linewidth=1)\n",
    "plt.title('Distribución Normal')\n",
    "plt.ylabel('probabilidad')\n",
    "plt.xlabel('valores')\n",
    "plt.show()"
   ]
  },
  {
   "cell_type": "markdown",
   "metadata": {
    "hidden": true
   },
   "source": [
    "* Distribución muestral de proporciones:"
   ]
  },
  {
   "cell_type": "code",
   "execution_count": 109,
   "metadata": {
    "ExecuteTime": {
     "end_time": "2020-03-18T23:49:30.045471Z",
     "start_time": "2020-03-18T23:49:30.032980Z"
    },
    "hidden": true
   },
   "outputs": [
    {
     "data": {
      "text/plain": [
       "-2.886751345948125"
      ]
     },
     "execution_count": 109,
     "metadata": {},
     "output_type": "execute_result"
    }
   ],
   "source": [
    "n = 800\n",
    "P = 0.6\n",
    "p = 0.55\n",
    "q = 1 - P\n",
    "z = (p - P) / np.sqrt((P * q) / n)\n",
    "z"
   ]
  },
  {
   "cell_type": "markdown",
   "metadata": {
    "hidden": true
   },
   "source": [
    "Observe que este valor es igual al obtenido en el método de la aproximación de la distribución normal a la binomial, por lo que si lo buscamos en la tabla de $z$ nos da la misma probabilidad de $0.0020$. También se debe de tomar en cuenta que el factor de corrección de $0.5$ se esta dividiendo entre el tamaño de la muestra, ya que estamos hablando de una proporción.\n",
    "\n",
    "La interpretación en esta solución, estaría enfocada a la proporción de la muestra, por lo que diríamos que la probabilidad de que al extraer una muestra de 800 estudiantes de esa universidad, la proporción de estudiantes que fuman cigarrillos sea menor al $55\\%$ es del $0.20\\%$.\n",
    "\n",
    "Ejemplo:\n",
    "\n",
    "Un medicamento para malestar estomacal tiene la advertencia de que algunos usuarios pueden presentar una reacción adversa a él, más aún, se piensa que alrededor del $3\\%$ de los usuarios tienen tal reacción. Si una muestra aleatoria de $150$ personas con malestar estomacal usa el medicamento, encuentre la probabilidad de que la proporción de la muestra de los usuarios que realmente presentan una reacción adversa, exceda el $4\\%$.\n",
    "\n",
    "a. Resolverlo mediante la aproximación de la normal a la binomial\n",
    "\n",
    "b. Resolverlo con la distribución muestral de proporciones\n",
    "\n",
    "* Aproximación de la distribución normal a la binomial:"
   ]
  },
  {
   "cell_type": "code",
   "execution_count": 110,
   "metadata": {
    "ExecuteTime": {
     "end_time": "2020-03-18T23:50:15.048763Z",
     "start_time": "2020-03-18T23:50:15.035745Z"
    },
    "hidden": true
   },
   "outputs": [
    {
     "data": {
      "text/plain": [
       "6.0"
      ]
     },
     "execution_count": 110,
     "metadata": {},
     "output_type": "execute_result"
    }
   ],
   "source": [
    "n = 150\n",
    "p = 0.03\n",
    "q = 1 - p\n",
    "x_per = 0.04 * n\n",
    "x_per"
   ]
  },
  {
   "cell_type": "code",
   "execution_count": 111,
   "metadata": {
    "ExecuteTime": {
     "end_time": "2020-03-18T23:50:24.587752Z",
     "start_time": "2020-03-18T23:50:24.579628Z"
    },
    "hidden": true
   },
   "outputs": [
    {
     "data": {
      "text/plain": [
       "4.5"
      ]
     },
     "execution_count": 111,
     "metadata": {},
     "output_type": "execute_result"
    }
   ],
   "source": [
    "media = n * p\n",
    "media"
   ]
  },
  {
   "cell_type": "code",
   "execution_count": 112,
   "metadata": {
    "ExecuteTime": {
     "end_time": "2020-03-18T23:50:32.772028Z",
     "start_time": "2020-03-18T23:50:32.762350Z"
    },
    "hidden": true
   },
   "outputs": [
    {
     "data": {
      "text/plain": [
       "0.9572775448236508"
      ]
     },
     "execution_count": 112,
     "metadata": {},
     "output_type": "execute_result"
    }
   ],
   "source": [
    "z = (6.5 - media) / np.sqrt(n * p * q)\n",
    "z"
   ]
  },
  {
   "cell_type": "code",
   "execution_count": 115,
   "metadata": {
    "ExecuteTime": {
     "end_time": "2020-03-18T23:51:17.789040Z",
     "start_time": "2020-03-18T23:51:17.780181Z"
    },
    "hidden": true
   },
   "outputs": [
    {
     "data": {
      "text/plain": [
       "0.8307864069001937"
      ]
     },
     "execution_count": 115,
     "metadata": {},
     "output_type": "execute_result"
    }
   ],
   "source": [
    "z_ = norm.cdf(z)\n",
    "z_"
   ]
  },
  {
   "cell_type": "code",
   "execution_count": 116,
   "metadata": {
    "ExecuteTime": {
     "end_time": "2020-03-18T23:51:28.196635Z",
     "start_time": "2020-03-18T23:51:28.188072Z"
    },
    "hidden": true
   },
   "outputs": [
    {
     "data": {
      "text/plain": [
       "0.16921359309980633"
      ]
     },
     "execution_count": 116,
     "metadata": {},
     "output_type": "execute_result"
    }
   ],
   "source": [
    "aprox = 1 - z_ # table value z\n",
    "aprox"
   ]
  },
  {
   "cell_type": "code",
   "execution_count": 117,
   "metadata": {
    "ExecuteTime": {
     "end_time": "2020-03-18T23:51:45.029650Z",
     "start_time": "2020-03-18T23:51:44.661994Z"
    },
    "hidden": true
   },
   "outputs": [
    {
     "data": {
      "image/png": "[encoded data removed]",
      "text/plain": [
       "<Figure size 432x288 with 1 Axes>"
      ]
     },
     "metadata": {
      "needs_background": "light"
     },
     "output_type": "display_data"
    }
   ],
   "source": [
    "# parametros esteticos de seaborn\n",
    "sns.set_palette(\"deep\", desat=.6)\n",
    "sns.set_context(rc={\"figure.figsize\": (8, 4)})\n",
    "# Graficando Normal\n",
    "mu, sigma = media, 1.5 # media y desvio estandar\n",
    "normal = stats.norm(mu, sigma)\n",
    "x = np.linspace(normal.ppf(0.01),\n",
    "                normal.ppf(0.99), n)\n",
    "fp = normal.pdf(x) # Función de Probabilidad\n",
    "plt.plot(x, fp)\n",
    "\n",
    "xcoords = [media, 6.5]\n",
    "colors = ['b', 'r']\n",
    "for xc,c in zip(xcoords,colors):\n",
    "    plt.axvline(x=xc, label='line at x = {}'.format(xc), c=c)\n",
    "\n",
    "plt.legend()\n",
    "plt.grid(color='gray', linestyle='-', linewidth=1)\n",
    "plt.title('Distribución Normal')\n",
    "plt.ylabel('probabilidad')\n",
    "plt.xlabel('valores')\n",
    "plt.show()"
   ]
  },
  {
   "cell_type": "markdown",
   "metadata": {
    "hidden": true
   },
   "source": [
    "Este valor significa que existe una probabilidad del $17\\%$ de que al extraer una muestra de $150$ personas, mas de $6$ presentarán una reacción adversa."
   ]
  },
  {
   "cell_type": "markdown",
   "metadata": {
    "ExecuteTime": {
     "end_time": "2020-03-18T23:52:22.926651Z",
     "start_time": "2020-03-18T23:52:22.920069Z"
    },
    "hidden": true
   },
   "source": [
    "* Distribución Muestral de Proporciones"
   ]
  },
  {
   "cell_type": "code",
   "execution_count": 119,
   "metadata": {
    "ExecuteTime": {
     "end_time": "2020-03-18T23:52:34.016448Z",
     "start_time": "2020-03-18T23:52:34.004759Z"
    },
    "hidden": true
   },
   "outputs": [
    {
     "data": {
      "text/plain": [
       "0.9548843509615917"
      ]
     },
     "execution_count": 119,
     "metadata": {},
     "output_type": "execute_result"
    }
   ],
   "source": [
    "n = 150\n",
    "P = 0.03\n",
    "p = 0.0433\n",
    "q = 1 - P\n",
    "z = (p - P) / np.sqrt((P * q) / n)\n",
    "z"
   ]
  },
  {
   "cell_type": "code",
   "execution_count": 120,
   "metadata": {
    "ExecuteTime": {
     "end_time": "2020-03-18T23:53:10.201974Z",
     "start_time": "2020-03-18T23:53:10.194196Z"
    },
    "hidden": true
   },
   "outputs": [
    {
     "data": {
      "text/plain": [
       "0.8301819078168883"
      ]
     },
     "execution_count": 120,
     "metadata": {},
     "output_type": "execute_result"
    }
   ],
   "source": [
    "z_ = norm.cdf(z)\n",
    "z_"
   ]
  },
  {
   "cell_type": "markdown",
   "metadata": {
    "hidden": true
   },
   "source": [
    "Observe que este valor es igual al obtenido y la interpretación es: existe una probabilidad del $83\\%$ de que al tomar una muestra de $150$ personas se tenga una proporción mayor de $0.04$ presentando una reacción adversa."
   ]
  },
  {
   "cell_type": "markdown",
   "metadata": {
    "heading_collapsed": true
   },
   "source": [
    "# Boxplots"
   ]
  },
  {
   "cell_type": "markdown",
   "metadata": {
    "heading_collapsed": true,
    "hidden": true
   },
   "source": [
    "## Definición de un Diagrama de Cajas"
   ]
  },
  {
   "cell_type": "markdown",
   "metadata": {
    "hidden": true
   },
   "source": [
    "Un diagrama de caja es una forma estandarizada de mostrar la distribución de datos basada en un resumen de cinco números (\"mínimo\", primer cuartil (Q1), mediana, tercer cuartil (Q3) y \"máximo\"). Puede informarle sobre sus valores atípicos y cuáles son sus valores. También puede decirle si sus datos son simétricos, cuán estrechamente están agrupados y si sus datos están sesgados."
   ]
  },
  {
   "cell_type": "code",
   "execution_count": 2,
   "metadata": {
    "ExecuteTime": {
     "end_time": "2020-03-18T19:39:49.354305Z",
     "start_time": "2020-03-18T19:39:28.711556Z"
    },
    "hidden": true
   },
   "outputs": [
    {
     "data": {
      "image/png": "[encoded data removed]",
      "text/plain": [
       "<Figure size 720x360 with 1 Axes>"
      ]
     },
     "metadata": {
      "needs_background": "light"
     },
     "output_type": "display_data"
    }
   ],
   "source": [
    "# connection path is here: #https://stackoverflow.com/questions/6146290/plotting-a-line-over-several-graphs\n",
    "mu, sigma = 0, 1 # mean and standard deviation\n",
    "s = np.random.normal(mu, sigma, 1000)\n",
    "\n",
    "fig, axes = plt.subplots(nrows = 1, ncols = 1, figsize=(10, 5))\n",
    "\n",
    "# rectangular box plot\n",
    "bplot = axes.boxplot(s,\n",
    "                vert=False,\n",
    "                patch_artist=True, \n",
    "                showfliers=True, # This would show outliers (the remaining .7% of the data)\n",
    "                positions = [0],\n",
    "                boxprops = dict(linestyle='--', linewidth=2, color='Black', facecolor = 'red', alpha = .4),\n",
    "                medianprops = dict(linestyle='-', linewidth=2, color='Yellow'),\n",
    "                whiskerprops = dict(linestyle='-', linewidth=2, color='Blue', alpha = .4),\n",
    "                capprops = dict(linestyle='-', linewidth=2, color='Black'),\n",
    "                flierprops = dict(marker='o', markerfacecolor='green', markersize=10,\n",
    "                  linestyle='none', alpha = .4),\n",
    "                widths = .3,\n",
    "                zorder = 1)   \n",
    "\n",
    "axes.set_xlim(-4, 4)\n",
    "plt.xticks(fontsize = 14)\n",
    "\n",
    "axes.set_yticks([])\n",
    "axes.annotate(r'',\n",
    "            xy=(-.73, .205), xycoords='data',\n",
    "            xytext=(.66, .205), textcoords='data',\n",
    "            arrowprops=dict(arrowstyle=\"|-|\",\n",
    "                            connectionstyle=\"arc3\")\n",
    "            );\n",
    "\n",
    "axes.text(0, .25, \"Interquartile Range \\n(IQR)\",  horizontalalignment='center', fontsize=18)\n",
    "axes.text(0, -.21, r\"Median\", horizontalalignment='center', fontsize=16);\n",
    "axes.text(2.65, -.15, \"\\\"Maximum\\\"\", horizontalalignment='center', fontsize=18);\n",
    "axes.text(-2.65, -.15, \"\\\"Minimum\\\"\", horizontalalignment='center', fontsize=18);\n",
    "axes.text(-.68, -.24, r\"Q1\", horizontalalignment='center', fontsize=18);\n",
    "axes.text(-2.65, -.21, r\"(Q1 - 1.5*IQR)\", horizontalalignment='center', fontsize=16);\n",
    "axes.text(.6745, -.24, r\"Q3\", horizontalalignment='center', fontsize=18);\n",
    "axes.text(.6745, -.30, r\"(75th Percentile)\", horizontalalignment='center', fontsize=12);\n",
    "axes.text(-.68, -.30, r\"(25th Percentile)\", horizontalalignment='center', fontsize=12);\n",
    "axes.text(2.65, -.21, r\"(Q3 + 1.5*IQR)\", horizontalalignment='center', fontsize=16);\n",
    "\n",
    "axes.annotate('Outliers', xy=(2.93,0.015), xytext=(2.52,0.20), fontsize = 18,\n",
    "            arrowprops={'arrowstyle': '->', 'color': 'black', 'lw': 2},\n",
    "            va='center');\n",
    "\n",
    "axes.annotate('Outliers', xy=(-3.01,0.015), xytext=(-3.41,0.20), fontsize = 18,\n",
    "            arrowprops={'arrowstyle': '->', 'color': 'black', 'lw': 2},\n",
    "            va='center');\n",
    "\n",
    "fig.tight_layout()\n",
    "fig.savefig('simple_boxplot.png', dpi = 2000)"
   ]
  },
  {
   "cell_type": "markdown",
   "metadata": {
    "heading_collapsed": true,
    "hidden": true
   },
   "source": [
    "## Whiskers"
   ]
  },
  {
   "cell_type": "code",
   "execution_count": 3,
   "metadata": {
    "ExecuteTime": {
     "end_time": "2020-03-18T19:42:45.401451Z",
     "start_time": "2020-03-18T19:42:40.619986Z"
    },
    "hidden": true
   },
   "outputs": [
    {
     "data": {
      "image/png": "[encoded data removed]",
      "text/plain": [
       "<Figure size 720x360 with 1 Axes>"
      ]
     },
     "metadata": {
      "needs_background": "light"
     },
     "output_type": "display_data"
    }
   ],
   "source": [
    "np.random.seed(916170)\n",
    "\n",
    "# connection path is here: https://stackoverflow.com/questions/6146290/plotting-a-line-over-several-graphs\n",
    "mu, sigma = 0, 1 # mean and standard deviation\n",
    "s = np.random.normal(mu, sigma, 1000)\n",
    "\n",
    "fig, axes = plt.subplots(nrows = 1, ncols = 1, figsize=(10, 5))\n",
    "\n",
    "# rectangular box plot\n",
    "bplot = axes.boxplot(s,\n",
    "                vert=False,\n",
    "                patch_artist=True, \n",
    "                showfliers=True, # This would show outliers (the remaining .7% of the data)\n",
    "                positions = [0],\n",
    "                boxprops = dict(linestyle='--', linewidth=2, color='Black', facecolor = 'red', alpha = .4),\n",
    "                medianprops = dict(linestyle='-', linewidth=2, color='Yellow'),\n",
    "                whiskerprops = dict(linestyle='-', linewidth=2, color='Blue', alpha = .4),\n",
    "                capprops = dict(linestyle='-', linewidth=2, color='Black'),\n",
    "                flierprops = dict(marker='o', markerfacecolor='green', markersize=10,\n",
    "                  linestyle='none', alpha = .4),\n",
    "                widths = .3,\n",
    "                zorder = 1)   \n",
    "\n",
    "axes.set_xlim(-4, 4)\n",
    "plt.xticks(fontsize = 14)\n",
    "\n",
    "axes.set_yticks([])\n",
    "axes.annotate(r'',\n",
    "            xy=(-.73, .205), xycoords='data',\n",
    "            xytext=(.66, .205), textcoords='data',\n",
    "            arrowprops=dict(arrowstyle=\"|-|\",\n",
    "                            connectionstyle=\"arc3\")\n",
    "            );\n",
    "\n",
    "axes.text(0, .25, \"Interquartile Range \\n(IQR)\",  horizontalalignment='center', fontsize=18)\n",
    "axes.text(0, -.21, r\"Median\", horizontalalignment='center', fontsize=16);\n",
    "axes.text(2.65, -.15, \"\\\"Maximum\\\"\", horizontalalignment='center', fontsize=18);\n",
    "#axes.text(-1.66, .03, \"Whisker\", horizontalalignment='center', fontsize=18);\n",
    "\n",
    "axes.text(1.66, .06, r'Whisker', horizontalalignment='center', fontsize=14,\n",
    "            bbox={'facecolor':'white',\n",
    "                  'edgecolor':'blue',\n",
    "                  'linewidth': 4,\n",
    "                  'alpha': .4,\n",
    "                  'pad':10.0});\n",
    "\n",
    "axes.text(-1.66, .06, r'Whisker', horizontalalignment='center', fontsize=14,\n",
    "            bbox={'facecolor':'white',\n",
    "                  'edgecolor':'blue',\n",
    "                  'linewidth': 4,\n",
    "                  'alpha': .4,\n",
    "                  'pad':10.0});\n",
    "\n",
    "axes.text(-2.65, -.15, \"\\\"Minimum\\\"\", horizontalalignment='center', fontsize=18);\n",
    "axes.text(-.68, -.24, r\"Q1\", horizontalalignment='center', fontsize=18);\n",
    "axes.text(-2.65, -.21, r\"(Q1 - 1.5*IQR)\", horizontalalignment='center', fontsize=16);\n",
    "axes.text(.6745, -.24, r\"Q3\", horizontalalignment='center', fontsize=18);\n",
    "axes.text(.6745, -.30, r\"(75th Percentile)\", horizontalalignment='center', fontsize=12);\n",
    "axes.text(-.68, -.30, r\"(25th Percentile)\", horizontalalignment='center', fontsize=12);\n",
    "axes.text(2.65, -.21, r\"(Q3 + 1.5*IQR)\", horizontalalignment='center', fontsize=16);\n",
    "\n",
    "axes.annotate('Outliers', xy=(2.93,0.015), xytext=(2.52,0.20), fontsize = 18,\n",
    "            arrowprops={'arrowstyle': '->', 'color': 'black', 'lw': 2},\n",
    "            va='center');\n",
    "\n",
    "axes.annotate('Outliers', xy=(-3.01,0.015), xytext=(-3.41,0.20), fontsize = 18,\n",
    "            arrowprops={'arrowstyle': '->', 'color': 'black', 'lw': 2},\n",
    "            va='center');\n",
    "\n",
    "fig.tight_layout()\n",
    "fig.savefig('simple_whisker.png', dpi = 900)"
   ]
  },
  {
   "cell_type": "markdown",
   "metadata": {
    "heading_collapsed": true,
    "hidden": true
   },
   "source": [
    "## All Together"
   ]
  },
  {
   "cell_type": "code",
   "execution_count": 4,
   "metadata": {
    "ExecuteTime": {
     "end_time": "2020-03-18T19:46:27.175715Z",
     "start_time": "2020-03-18T19:46:27.159921Z"
    },
    "hidden": true
   },
   "outputs": [],
   "source": [
    "def normalProbabilityDensity(x):\n",
    "    constant = 1.0 / np.sqrt(2*np.pi)\n",
    "    return(constant * np.exp((-x**2) / 2.0) )\n",
    "\n",
    "#Integrate PDF from -.6745 to .6745\n",
    "result_n67_67, _ = quad(normalProbabilityDensity, -.6745, .6745, limit = 1000)\n",
    "\n",
    "# Integrate PDF from -2.698 to -.6745\n",
    "result_n2698_67, _ = quad(normalProbabilityDensity, -2.698, -.6745, limit = 1000)\n",
    "\n",
    "# Integrate PDF from .6745 to 2.698\n",
    "result_67_2698, _ = quad(normalProbabilityDensity, .6745, 2.698, limit = 1000)\n",
    "\n",
    "# Integrate PDF from 2.698 to positive infinity\n",
    "result_2698_inf, _ = quad(normalProbabilityDensity, 2.698, np.inf, limit = 1000)\n",
    "\n",
    "# Integrate PDF from negative infinity to -2.698\n",
    "result_ninf_n2698, _ = quad(normalProbabilityDensity, np.NINF, -2.698, limit = 1000)"
   ]
  },
  {
   "cell_type": "code",
   "execution_count": 6,
   "metadata": {
    "ExecuteTime": {
     "end_time": "2020-03-18T19:46:50.647599Z",
     "start_time": "2020-03-18T19:46:42.570801Z"
    },
    "hidden": true
   },
   "outputs": [
    {
     "data": {
      "image/png": "[encoded data removed]",
      "text/plain": [
       "<Figure size 648x648 with 2 Axes>"
      ]
     },
     "metadata": {
      "needs_background": "light"
     },
     "output_type": "display_data"
    }
   ],
   "source": [
    "\n",
    "np.random.seed(916170)\n",
    "\n",
    "# connection path is here: https://stackoverflow.com/questions/6146290/plotting-a-line-over-several-graphs\n",
    "mu, sigma = 0, 1 # mean and standard deviation\n",
    "s = np.random.normal(mu, sigma, 1000)\n",
    "\n",
    "fig, axes = plt.subplots(nrows = 2, ncols = 1, figsize=(9, 9))\n",
    "\n",
    "# rectangular box plot\n",
    "bplot = axes[0].boxplot(s,\n",
    "                vert=False,\n",
    "                patch_artist=True, \n",
    "                showfliers=True, # This would show outliers (the remaining .7% of the data)\n",
    "                positions = [0],\n",
    "                boxprops = dict(linestyle='--', linewidth=2, color='Black', facecolor = 'red', alpha = .4),\n",
    "                medianprops = dict(linestyle='-', linewidth=2, color='Yellow'),\n",
    "                whiskerprops = dict(linestyle='-', linewidth=2, color='Blue', alpha = .4),\n",
    "                capprops = dict(linestyle='-', linewidth=2, color='Black'),\n",
    "                flierprops = dict(marker='o', markerfacecolor='green', markersize=10,\n",
    "                  linestyle='none', alpha = .4),\n",
    "                widths = .3,\n",
    "                zorder = 1)   \n",
    "\n",
    "\n",
    "\n",
    "axes[0].set_xlim(-4, 4)\n",
    "axes[0].set_yticks([])\n",
    "x = np.linspace(-4, 4, num = 100)\n",
    "constant = 1.0 / np.sqrt(2*np.pi)\n",
    "pdf_normal_distribution = constant * np.exp((-x**2) / 2.0)\n",
    "\n",
    "axes[0].annotate(r'',\n",
    "            xy=(-.6745, .30), xycoords='data',\n",
    "            xytext=(.6745, .30), textcoords='data',\n",
    "            arrowprops=dict(arrowstyle=\"|-|\",\n",
    "                            connectionstyle=\"arc3\")\n",
    "            );\n",
    "\n",
    "axes[0].text(0, .36, r\"IQR\",  horizontalalignment='center', fontsize=18)\n",
    "axes[0].text(0, -.24, r\"Median\", horizontalalignment='center', fontsize=18);\n",
    "axes[0].text(-.6745, .18, r\"Q1\", horizontalalignment='center', fontsize=18);\n",
    "axes[0].text(-2.698, .12, r\"Q1 - 1.5*IQR\", horizontalalignment='center', fontsize=16);\n",
    "axes[0].text(.6745, .18, r\"Q3\", horizontalalignment='center', fontsize=18);\n",
    "axes[0].text(2.698, .12, r\"Q3 + 1.5*IQR\", horizontalalignment='center', fontsize=16);\n",
    "\n",
    "axes[1].plot(x, pdf_normal_distribution, zorder= 2)\n",
    "axes[1].set_xlim(-4, 4)\n",
    "axes[1].set_ylim(0)\n",
    "axes[1].set_ylabel('Probability Density', size = 20)\n",
    "\n",
    "##############################\n",
    "# lower box\n",
    "con = ConnectionPatch(xyA=(-.6745, 0), xyB=(-.6745, 0),\n",
    "    coordsA=\"data\", coordsB=\"data\", axesA=axes[1], axesB=axes[0],\n",
    "    arrowstyle=\"-\", linewidth=2, color=\"black\", zorder = 2, alpha = .2)\n",
    "axes[1].add_artist(con)\n",
    "\n",
    "# upper box\n",
    "con = ConnectionPatch(xyA=(.6745, 0), xyB=(.6745, 0),\n",
    "    coordsA=\"data\", coordsB=\"data\", axesA=axes[1], axesB=axes[0],\n",
    "    arrowstyle=\"-\", linewidth=2, color=\"black\", zorder = 2, alpha = .2)\n",
    "axes[1].add_artist(con)\n",
    "\n",
    "# lower whisker\n",
    "con = ConnectionPatch(xyA=(-2.698, 0), xyB=(-2.698, 0),\n",
    "    coordsA=\"data\", coordsB=\"data\", axesA=axes[1], axesB=axes[0],\n",
    "    arrowstyle=\"-\", linewidth=2, color=\"black\", zorder = 2, alpha = .2)\n",
    "axes[1].add_artist(con)\n",
    "\n",
    "# upper whisker\n",
    "con = ConnectionPatch(xyA=(2.698, 0), xyB=(2.698, 0),\n",
    "    coordsA=\"data\", coordsB=\"data\", axesA=axes[1], axesB=axes[0],\n",
    "    arrowstyle=\"-\", linewidth=2, color=\"black\", zorder = 2, alpha = .2)\n",
    "axes[1].add_artist(con)\n",
    "\n",
    "# Make the shaded center region to represent integral\n",
    "a, b = -.6745, .6745\n",
    "ix = np.linspace(a, b)\n",
    "iy = normalProbabilityDensity(ix)\n",
    "verts = [(-.6745, 0)] + list(zip(ix, iy)) + [(.6745, 0)]\n",
    "poly = Polygon(verts, facecolor='red', edgecolor='0.2', alpha = .4)\n",
    "axes[1].add_patch(poly)\n",
    "axes[1].text(0, .04, r'{0:.0f}%'.format(result_n67_67*100),\n",
    "         horizontalalignment='center', fontsize=18)\n",
    "\n",
    "##############################\n",
    "a, b = -2.698, -.6745# integral limits\n",
    "\n",
    "# Make the shaded region\n",
    "ix = np.linspace(a, b)\n",
    "iy = normalProbabilityDensity(ix)\n",
    "verts = [(a, 0)] + list(zip(ix, iy)) + [(b, 0)]\n",
    "poly = Polygon(verts, facecolor='blue', edgecolor='0.2', alpha = .4)\n",
    "axes[1].add_patch(poly);\n",
    "axes[1].text(-1.40, .04, r'{0:.2f}%'.format(result_n2698_67*100),\n",
    "         horizontalalignment='center', fontsize=18);\n",
    "\n",
    "##############################\n",
    "a, b = .6745, 2.698 # integral limits\n",
    "\n",
    "# Make the shaded region\n",
    "ix = np.linspace(a, b)\n",
    "iy = normalProbabilityDensity(ix)\n",
    "verts = [(a, 0)] + list(zip(ix, iy)) + [(b, 0)]\n",
    "poly = Polygon(verts, facecolor='blue', edgecolor='0.2', alpha = .4)\n",
    "axes[1].add_patch(poly);\n",
    "axes[1].text(1.40, .04, r'{0:.2f}%'.format(result_67_2698*100),\n",
    "         horizontalalignment='center', fontsize=18);\n",
    "\n",
    "##############################\n",
    "a, b = 2.698, 4 # integral limits\n",
    "\n",
    "# Make the shaded region\n",
    "ix = np.linspace(a, b)\n",
    "iy = normalProbabilityDensity(ix)\n",
    "verts = [(a, 0)] + list(zip(ix, iy)) + [(b, 0)]\n",
    "poly = Polygon(verts, facecolor='green', edgecolor='0.2', alpha = .4)\n",
    "axes[1].add_patch(poly);\n",
    "axes[1].text(3.3, .04, r'{0:.2f}%'.format(result_2698_inf*100),\n",
    "         horizontalalignment='center', fontsize=18);\n",
    "\n",
    "##############################\n",
    "a, b = -4, -2.698 # integral limits\n",
    "\n",
    "# Make the shaded region\n",
    "ix = np.linspace(a, b)\n",
    "iy = normalProbabilityDensity(ix)\n",
    "verts = [(a, 0)] + list(zip(ix, iy)) + [(b, 0)]\n",
    "poly = Polygon(verts, facecolor='green', edgecolor='0.2', alpha = .4)\n",
    "axes[1].add_patch(poly);\n",
    "axes[1].text(-3.3, .04, r'{0:.2f}%'.format(result_ninf_n2698*100),\n",
    "         horizontalalignment='center', fontsize=18);\n",
    "\n",
    "##############################\n",
    "xTickLabels = [r'$-4\\sigma$',\n",
    "               r'$-3\\sigma$',\n",
    "               r'$-2\\sigma$',\n",
    "               r'$-1\\sigma$',\n",
    "               r'$0\\sigma$',\n",
    "               r'$1\\sigma$',\n",
    "               r'$2\\sigma$',\n",
    "               r'$3\\sigma$',\n",
    "               r'$4\\sigma$']\n",
    "\n",
    "yTickLabels = ['0.00',\n",
    "               '0.05',\n",
    "               '0.10',\n",
    "               '0.15',\n",
    "               '0.20',\n",
    "               '0.25',\n",
    "               '0.30',\n",
    "               '0.35',\n",
    "               '0.40']\n",
    "\n",
    "# Make both x axis into standard deviations\n",
    "axes[0].set_xticklabels(xTickLabels, fontsize = 14)\n",
    "axes[1].set_xticklabels(xTickLabels, fontsize = 14)\n",
    "\n",
    "# Only the PDF needs y ticks\n",
    "axes[1].set_yticklabels(yTickLabels, fontsize = 14)\n",
    "\n",
    "##############################\n",
    "# Add -2.698, -.6745, .6745, 2.698 text without background\n",
    "axes[1].text(-.6745,.41, r'{0:.4f}'.format(-.6745) + '$\\sigma$', horizontalalignment='center', fontsize=14,\n",
    "            bbox={'facecolor':'white', 'edgecolor':'none', 'pad':5});\n",
    "\n",
    "axes[1].text(.6745, .410, r'{0:.4f}'.format(.6745) + '$\\sigma$', horizontalalignment='center', fontsize=14,\n",
    "            bbox={'facecolor':'white', 'edgecolor':'none', 'pad':5});\n",
    "\n",
    "axes[1].text(-2.698, .410, r'{0:.3f}'.format(-2.698) + '$\\sigma$', horizontalalignment='center', fontsize=14,\n",
    "            bbox={'facecolor':'white', 'edgecolor':'none', 'pad':5});\n",
    "\n",
    "axes[1].text(2.698, .410, r'{0:.3f}'.format(2.698) + '$\\sigma$', horizontalalignment='center', fontsize=14,\n",
    "            bbox={'facecolor':'white', 'edgecolor':'none', 'pad':5});\n",
    "\n",
    "fig.tight_layout()\n",
    "fig.savefig('boxplotNormalDistributionOverlay.png', dpi = 900)"
   ]
  },
  {
   "cell_type": "markdown",
   "metadata": {
    "hidden": true
   },
   "source": [
    "La imagen de arriba es una comparación de un diagrama de caja de una distribución casi normal y la función de densidad de probabilidad (pdf) para una distribución normal."
   ]
  },
  {
   "cell_type": "markdown",
   "metadata": {
    "heading_collapsed": true,
    "hidden": true
   },
   "source": [
    "## Función de densidad de probabilidad\n",
    "Para poder entender de dónde provienen los porcentajes, es importante saber acerca de la función de densidad de probabilidad (PDF). Se utiliza un PDF para especificar la probabilidad de que la variable aleatoria caiga dentro de un rango particular de valores, en lugar de tomar cualquier valor. Esta probabilidad viene dada por la integral del PDF de esta variable sobre ese rango, es decir, viene dado por el área bajo la función de densidad pero por encima del eje horizontal y entre los valores más bajos y más grandes del rango.\n",
    "\n",
    "La siguiente ecuación es la función de densidad de probabilidad para una distribución normal.\n",
    "\n",
    "$f(x|\\mu, \\sigma^{2}) = \\frac{1}{\\sqrt2\\pi\\sigma^{2})}e^{-\\frac{(x-\\mu)^2}{2\\sigma^{2}}}$\n",
    "\n",
    "Simplifiquemos asumiendo que tenemos una media (μ) de 0 y una desviación estándar (σ) de 1.\n",
    "\n",
    "$f(x) = \\frac{1}{\\sqrt2\\pi}e^{-\\frac{-x^2}{2}}$"
   ]
  },
  {
   "cell_type": "code",
   "execution_count": 7,
   "metadata": {
    "ExecuteTime": {
     "end_time": "2020-03-18T20:04:14.751377Z",
     "start_time": "2020-03-18T20:04:14.327331Z"
    },
    "hidden": true
   },
   "outputs": [
    {
     "data": {
      "image/png": "[encoded data removed]",
      "text/plain": [
       "<Figure size 720x360 with 1 Axes>"
      ]
     },
     "metadata": {
      "needs_background": "light"
     },
     "output_type": "display_data"
    }
   ],
   "source": [
    "x = np.linspace(-4, 4, num = 100)\n",
    "constant = 1.0 / np.sqrt(2*np.pi)\n",
    "pdf_normal_distribution = constant * np.exp((-x**2) / 2.0)\n",
    "fig, ax = plt.subplots(figsize=(10, 5));\n",
    "ax.plot(x, pdf_normal_distribution);\n",
    "ax.set_ylim(0);\n",
    "ax.set_title('Normal Distribution', size = 20);\n",
    "ax.set_ylabel('Probability Density', size = 20);"
   ]
  },
  {
   "cell_type": "markdown",
   "metadata": {
    "hidden": true
   },
   "source": [
    "El gráfico anterior no muestra la probabilidad de eventos, sino su densidad de probabilidad. Para obtener la probabilidad de un evento dentro de un rango dado, necesitaremos integrarlo. Supongamos que estamos interesados en encontrar la probabilidad de que un punto de datos aleatorio aterrice dentro del rango intercuartil .6745 desviación estándar de la media, necesitamos integrar de -.6745 a .6745. "
   ]
  },
  {
   "cell_type": "code",
   "execution_count": 9,
   "metadata": {
    "ExecuteTime": {
     "end_time": "2020-03-18T20:12:10.885776Z",
     "start_time": "2020-03-18T20:12:10.871689Z"
    },
    "hidden": true
   },
   "outputs": [
    {
     "name": "stdout",
     "output_type": "stream",
     "text": [
      "0.5000065142726018\n"
     ]
    }
   ],
   "source": [
    "# Make PDF for the normal distribution a function\n",
    "def normalProbabilityDensity(x):\n",
    "    constant = 1.0 / np.sqrt(2*np.pi)\n",
    "    return(constant * np.exp((-x**2) / 2.0) )\n",
    "\n",
    "# Integrate PDF from -.6745 to .6745\n",
    "result_50p, _= quad(normalProbabilityDensity, -.6745, .6745, limit = 1000) # quad calcula una integral definida.\n",
    "print(result_50p)"
   ]
  },
  {
   "cell_type": "code",
   "execution_count": 11,
   "metadata": {
    "ExecuteTime": {
     "end_time": "2020-03-18T20:15:36.636937Z",
     "start_time": "2020-03-18T20:15:29.171891Z"
    },
    "hidden": true
   },
   "outputs": [
    {
     "data": {
      "image/png": "[encoded data removed]",
      "text/plain": [
       "<Figure size 720x360 with 1 Axes>"
      ]
     },
     "metadata": {
      "needs_background": "light"
     },
     "output_type": "display_data"
    }
   ],
   "source": [
    "a, b = -.6745, .6745 # integral limits\n",
    "\n",
    "x = np.linspace(-4, 4)\n",
    "y = normalProbabilityDensity(x)\n",
    "\n",
    "fig, ax = plt.subplots(figsize=(10, 5))\n",
    "ax.plot(x, y, 'k', linewidth=.5)\n",
    "ax.set_ylim(ymin=0)\n",
    "\n",
    "# Make the shaded region\n",
    "ix = np.linspace(a, b)\n",
    "iy = normalProbabilityDensity(ix)\n",
    "verts = [(a, 0)] + list(zip(ix, iy)) + [(b, 0)]\n",
    "poly = Polygon(verts, facecolor='red', edgecolor='0.2', alpha = .4)\n",
    "ax.add_patch(poly);\n",
    "\n",
    "ax.text(0, .08, r\"$\\int_{-.6745}^{.6745}f(x)\\mathrm{d}x=$\" + \"{0:.0f}%\".format(result_50p*100),\n",
    "         horizontalalignment='center', fontsize=11.5);\n",
    "\n",
    "ax.set_title(r'50% of Values are within .6745 STD', fontsize = 24);\n",
    "ax.set_ylabel(r'Probability Density', fontsize = 18);\n",
    "\n",
    "fig.savefig('interquartileRange.png', dpi = 1200)"
   ]
  },
  {
   "cell_type": "markdown",
   "metadata": {
    "heading_collapsed": true,
    "hidden": true
   },
   "source": [
    "## IQR with Distribution"
   ]
  },
  {
   "cell_type": "code",
   "execution_count": 12,
   "metadata": {
    "ExecuteTime": {
     "end_time": "2020-03-18T20:33:29.101495Z",
     "start_time": "2020-03-18T20:33:21.366307Z"
    },
    "hidden": true
   },
   "outputs": [
    {
     "data": {
      "image/png": "[encoded data removed]",
      "text/plain": [
       "<Figure size 648x648 with 2 Axes>"
      ]
     },
     "metadata": {
      "needs_background": "light"
     },
     "output_type": "display_data"
    }
   ],
   "source": [
    "np.random.seed(916170)\n",
    "\n",
    "\n",
    "# 916170 is new seed\n",
    "# 39 was the seed\n",
    "\n",
    "# connection path is here: https://stackoverflow.com/questions/6146290/plotting-a-line-over-several-graphs\n",
    "mu, sigma = 0, 1 # mean and standard deviation\n",
    "s = np.random.normal(mu, sigma, 1000)\n",
    "\n",
    "fig, axes = plt.subplots(nrows = 2, ncols = 1, figsize=(9, 9))\n",
    "\n",
    "# rectangular box plot\n",
    "bplot = axes[0].boxplot(s,\n",
    "                vert=False,\n",
    "                patch_artist=True, \n",
    "                showfliers=False, # This would show outliers (the remaining .7% of the data)\n",
    "                positions = [0],\n",
    "                boxprops = dict(linestyle='--', linewidth=2, color='Black', facecolor = 'Red', alpha = .4),\n",
    "                medianprops = dict(linestyle='-', linewidth=2, color='Yellow'),\n",
    "                whiskerprops = dict(linestyle='-', linewidth=2, color='White', alpha = .4),\n",
    "                capprops = dict(linestyle='-', linewidth=2, color='White'),\n",
    "                flierprops = dict(marker='o', markerfacecolor='green', markersize=10,\n",
    "                  linestyle='none', alpha = .4),\n",
    "                widths = .3,\n",
    "                zorder = 1)   \n",
    "\n",
    "axes[0].set_title('50% of Values are within .6745$\\sigma$', fontdict = {'fontsize': 26, 'fontweight': 'medium'});\n",
    "\n",
    "\n",
    "\n",
    "#axes.set_title('Stuff', fontdict = {'fontsize': 29, \n",
    "#                                    'fontweight': 'bold'} )\n",
    "\n",
    "axes[0].set_xlim(-4, 4)\n",
    "axes[0].set_yticks([])\n",
    "x = np.linspace(-4, 4, num = 100)\n",
    "constant = 1.0 / np.sqrt(2*np.pi)\n",
    "pdf_normal_distribution = constant * np.exp((-x**2) / 2.0)\n",
    "\n",
    "axes[0].annotate(r'',\n",
    "            xy=(-.6745, .30), xycoords='data',\n",
    "            xytext=(.6745, .30), textcoords='data',\n",
    "            arrowprops=dict(arrowstyle=\"|-|\",\n",
    "                            connectionstyle=\"arc3\")\n",
    "            );\n",
    "\n",
    "axes[0].text(0, .36, r\"IQR\",  horizontalalignment='center', fontsize=18)\n",
    "axes[0].text(0, -.24, r\"Median\", horizontalalignment='center', fontsize=18);\n",
    "axes[0].text(-.6745, .18, r\"Q1\", horizontalalignment='center', fontsize=18);\n",
    "#axes[0].text(-2.698, .12, r\"Q1 - 1.5*IQR\", horizontalalignment='center', fontsize=16);\n",
    "axes[0].text(.6745, .18, r\"Q3\", horizontalalignment='center', fontsize=18);\n",
    "#axes[0].text(2.698, .12, r\"Q3 + 1.5*IQR\", horizontalalignment='center', fontsize=16);\n",
    "\n",
    "axes[1].plot(x, pdf_normal_distribution, zorder= 2)\n",
    "axes[1].set_xlim(-4, 4)\n",
    "axes[1].set_ylim(0)\n",
    "axes[1].set_ylabel('Probability Density', size = 20)\n",
    "\n",
    "##############################\n",
    "# lower box\n",
    "con = ConnectionPatch(xyA=(-.6745, 0), xyB=(-.6745, 0),\n",
    "    coordsA=\"data\", coordsB=\"data\", axesA=axes[1], axesB=axes[0],\n",
    "    arrowstyle=\"-\", linewidth=2, color=\"black\", zorder = 2, alpha = .2)\n",
    "axes[1].add_artist(con)\n",
    "\n",
    "# upper box\n",
    "con = ConnectionPatch(xyA=(.6745, 0), xyB=(.6745, 0),\n",
    "    coordsA=\"data\", coordsB=\"data\", axesA=axes[1], axesB=axes[0],\n",
    "    arrowstyle=\"-\", linewidth=2, color=\"black\", zorder = 2, alpha = .2)\n",
    "axes[1].add_artist(con)\n",
    "\n",
    "# Make the shaded center region to represent integral\n",
    "a, b = -.6745, .6745\n",
    "ix = np.linspace(a, b)\n",
    "iy = normalProbabilityDensity(ix)\n",
    "verts = [(-.6745, 0)] + list(zip(ix, iy)) + [(.6745, 0)]\n",
    "poly = Polygon(verts, facecolor='red', edgecolor='0.2', alpha = .4)\n",
    "axes[1].add_patch(poly)\n",
    "\n",
    "##############################\n",
    "xTickLabels = [r'$-4\\sigma$',\n",
    "               r'$-3\\sigma$',\n",
    "               r'$-2\\sigma$',\n",
    "               r'$-1\\sigma$',\n",
    "               r'$0\\sigma$',\n",
    "               r'$1\\sigma$',\n",
    "               r'$2\\sigma$',\n",
    "               r'$3\\sigma$',\n",
    "               r'$4\\sigma$']\n",
    "\n",
    "yTickLabels = ['0.00',\n",
    "               '0.05',\n",
    "               '0.10',\n",
    "               '0.15',\n",
    "               '0.20',\n",
    "               '0.25',\n",
    "               '0.30',\n",
    "               '0.35',\n",
    "               '0.40']\n",
    "\n",
    "# Make both x axis into standard deviations\n",
    "axes[0].set_xticklabels(xTickLabels, fontsize = 14)\n",
    "axes[1].set_xticklabels(xTickLabels, fontsize = 14)\n",
    "\n",
    "# Only the PDF needs y ticks\n",
    "axes[1].set_yticklabels(yTickLabels, fontsize = 14)\n",
    "\n",
    "##############################\n",
    "# Add -2.698, -.6745, .6745, 2.698 text without background\n",
    "axes[1].text(-.6745,.41, r'{0:.4f}'.format(-.6745) + '$\\sigma$', horizontalalignment='center', fontsize=14,\n",
    "            bbox={'facecolor':'white', 'edgecolor':'none', 'pad':5});\n",
    "\n",
    "axes[1].text(.6745, .410, r'{0:.4f}'.format(.6745) + '$\\sigma$', horizontalalignment='center', fontsize=14,\n",
    "            bbox={'facecolor':'white', 'edgecolor':'none', 'pad':5});\n",
    "\n",
    "axes[1].text(-2.698, .410, r'{0:.3f}'.format(-2.698) + '$\\sigma$', horizontalalignment='center', fontsize=14,\n",
    "            bbox={'facecolor':'white', 'edgecolor':'none', 'pad':5});\n",
    "\n",
    "axes[1].text(2.698, .410, r'{0:.3f}'.format(2.698) + '$\\sigma$', horizontalalignment='center', fontsize=14,\n",
    "            bbox={'facecolor':'white', 'edgecolor':'none', 'pad':5});\n",
    "\n",
    "\n",
    "axes[1].text(0, .04, r'{0:.0f}%'.format(result_50p*100),\n",
    "         horizontalalignment='center', fontsize=18)\n",
    "\n",
    "fig.tight_layout()\n",
    "fig.savefig('IQRboxplotDistribution.png', dpi = 900)"
   ]
  },
  {
   "cell_type": "markdown",
   "metadata": {
    "hidden": true
   },
   "source": [
    "Lo mismo puede hacerse para \"mínimo\" y \"máximo\"."
   ]
  },
  {
   "cell_type": "code",
   "execution_count": 13,
   "metadata": {
    "ExecuteTime": {
     "end_time": "2020-03-18T20:34:43.048695Z",
     "start_time": "2020-03-18T20:34:43.039215Z"
    },
    "hidden": true
   },
   "outputs": [
    {
     "name": "stdout",
     "output_type": "stream",
     "text": [
      "0.9930242559336101\n"
     ]
    }
   ],
   "source": [
    "# Integrate PDF from -2.698 to 2.698\n",
    "result_99_3p, _ = quad(normalProbabilityDensity,\n",
    "                     -2.698,\n",
    "                     2.698,\n",
    "                     limit = 1000)\n",
    "print(result_99_3p)"
   ]
  },
  {
   "cell_type": "code",
   "execution_count": 14,
   "metadata": {
    "ExecuteTime": {
     "end_time": "2020-03-18T20:35:13.892230Z",
     "start_time": "2020-03-18T20:35:06.302712Z"
    },
    "hidden": true
   },
   "outputs": [
    {
     "data": {
      "image/png": "[encoded data removed]",
      "text/plain": [
       "<Figure size 720x360 with 1 Axes>"
      ]
     },
     "metadata": {
      "needs_background": "light"
     },
     "output_type": "display_data"
    }
   ],
   "source": [
    "a, b = -2.698, 2.698 # integral limits\n",
    "\n",
    "x = np.linspace(-4, 4)\n",
    "y = normalProbabilityDensity(x)\n",
    "\n",
    "fig, ax = plt.subplots(figsize=(10, 5))\n",
    "ax.plot(x, y, 'k', linewidth=.5)\n",
    "ax.set_ylim(ymin=0)\n",
    "\n",
    "# Make the shaded region\n",
    "ix = np.linspace(a, b)\n",
    "iy = normalProbabilityDensity(ix)\n",
    "verts = [(a, 0)] + list(zip(ix, iy)) + [(b, 0)]\n",
    "poly = Polygon(verts, facecolor='red', edgecolor='0.2', alpha = .4)\n",
    "ax.add_patch(poly);\n",
    "\n",
    "ax.text(0, .08, r\"$\\int_{-2.698}^{2.698}f(x)\\mathrm{d}x=$\" + \"{0:.1f}%\".format(result_99_3p*100),\n",
    "         horizontalalignment='center', fontsize=11.5);\n",
    "\n",
    "ax.set_title(r'99.3% of Values are within 2.698 STD', fontsize = 24);\n",
    "ax.set_ylabel(r'Probability Density', fontsize = 18);\n",
    "\n",
    "fig.savefig('99_3.png', dpi = 1200)"
   ]
  },
  {
   "cell_type": "markdown",
   "metadata": {
    "heading_collapsed": true,
    "hidden": true
   },
   "source": [
    "## Whiskers with Distribution"
   ]
  },
  {
   "cell_type": "code",
   "execution_count": 15,
   "metadata": {
    "ExecuteTime": {
     "end_time": "2020-03-18T20:36:56.795482Z",
     "start_time": "2020-03-18T20:36:48.528792Z"
    },
    "hidden": true
   },
   "outputs": [
    {
     "data": {
      "image/png": "[encoded data removed]",
      "text/plain": [
       "<Figure size 648x648 with 2 Axes>"
      ]
     },
     "metadata": {
      "needs_background": "light"
     },
     "output_type": "display_data"
    }
   ],
   "source": [
    "np.random.seed(916170)\n",
    "\n",
    "# 8, 11, 20\n",
    "\n",
    "# connection path is here: https://stackoverflow.com/questions/6146290/plotting-a-line-over-several-graphs\n",
    "mu, sigma = 0, 1 # mean and standard deviation\n",
    "s = np.random.normal(mu, sigma, 1000)\n",
    "\n",
    "fig, axes = plt.subplots(nrows = 2, ncols = 1, figsize=(9, 9))\n",
    "\n",
    "# rectangular box plot\n",
    "bplot = axes[0].boxplot(s,\n",
    "                vert=False,\n",
    "                patch_artist=True, \n",
    "                showfliers=False, # This would show outliers (the remaining .7% of the data)\n",
    "                positions = [0],\n",
    "                boxprops = dict(linestyle='--', linewidth=2, color='Black', facecolor = 'red', alpha = .4),\n",
    "                medianprops = dict(linestyle='-', linewidth=2, color='Yellow'),\n",
    "                whiskerprops = dict(linestyle='-', linewidth=2, color='red', alpha = .4),\n",
    "                capprops = dict(linestyle='-', linewidth=2, color='red'),\n",
    "                widths = .3,\n",
    "                zorder = 1)   \n",
    "\n",
    "axes[0].set_title('99.3% of Values are within 2.698$\\sigma$', fontdict = {'fontsize': 26, 'fontweight': 'medium'});\n",
    "\n",
    "axes[0].set_xlim(-4, 4)\n",
    "axes[0].set_yticks([])\n",
    "x = np.linspace(-4, 4, num = 100)\n",
    "constant = 1.0 / np.sqrt(2*np.pi)\n",
    "pdf_normal_distribution = constant * np.exp((-x**2) / 2.0)\n",
    "\n",
    "axes[0].annotate(r'',\n",
    "            xy=(-.6745, .30), xycoords='data',\n",
    "            xytext=(.6745, .30), textcoords='data',\n",
    "            arrowprops=dict(arrowstyle=\"|-|\",\n",
    "                            connectionstyle=\"arc3\")\n",
    "            );\n",
    "\n",
    "axes[0].text(0, .36, r\"IQR\",  horizontalalignment='center', fontsize=18)\n",
    "axes[0].text(0, -.24, r\"Median\", horizontalalignment='center', fontsize=18);\n",
    "axes[0].text(-.6745, .18, r\"Q1\", horizontalalignment='center', fontsize=18);\n",
    "axes[0].text(-2.698, .12, r\"Q1 - 1.5*IQR\", horizontalalignment='center', fontsize=16);\n",
    "axes[0].text(.6745, .18, r\"Q3\", horizontalalignment='center', fontsize=18);\n",
    "axes[0].text(2.698, .12, r\"Q3 + 1.5*IQR\", horizontalalignment='center', fontsize=16);\n",
    "\n",
    "axes[1].plot(x, pdf_normal_distribution, zorder= 2)\n",
    "axes[1].set_xlim(-4, 4)\n",
    "axes[1].set_ylim(0)\n",
    "axes[1].set_ylabel('Probability Density', size = 20)\n",
    "\n",
    "##############################\n",
    "# lower whisker\n",
    "con = ConnectionPatch(xyA=(-2.698, 0), xyB=(-2.698, 0),\n",
    "    coordsA=\"data\", coordsB=\"data\", axesA=axes[1], axesB=axes[0],\n",
    "    arrowstyle=\"-\", linewidth=2, color=\"black\", zorder = 2, alpha = .2)\n",
    "axes[1].add_artist(con)\n",
    "\n",
    "# upper whisker\n",
    "con = ConnectionPatch(xyA=(2.698, 0), xyB=(2.698, 0),\n",
    "    coordsA=\"data\", coordsB=\"data\", axesA=axes[1], axesB=axes[0],\n",
    "    arrowstyle=\"-\", linewidth=2, color=\"black\", zorder = 2, alpha = .2)\n",
    "axes[1].add_artist(con)\n",
    "\n",
    "# Make the shaded center region to represent integral\n",
    "a, b = -2.698, 2.6988\n",
    "ix = np.linspace(a, b)\n",
    "iy = normalProbabilityDensity(ix)\n",
    "verts = [(-2.698, 0)] + list(zip(ix, iy)) + [(2.698, 0)]\n",
    "poly = Polygon(verts, facecolor='red', edgecolor='0.2', alpha = .4)\n",
    "axes[1].add_patch(poly)\n",
    "axes[1].text(0, .04, r'{0:.1f}%'.format(result_99_3p*100),\n",
    "         horizontalalignment='center', fontsize=18)\n",
    "\n",
    "##############################\n",
    "xTickLabels = [r'$-4\\sigma$',\n",
    "               r'$-3\\sigma$',\n",
    "               r'$-2\\sigma$',\n",
    "               r'$-1\\sigma$',\n",
    "               r'$0\\sigma$',\n",
    "               r'$1\\sigma$',\n",
    "               r'$2\\sigma$',\n",
    "               r'$3\\sigma$',\n",
    "               r'$4\\sigma$']\n",
    "\n",
    "yTickLabels = ['0.00',\n",
    "               '0.05',\n",
    "               '0.10',\n",
    "               '0.15',\n",
    "               '0.20',\n",
    "               '0.25',\n",
    "               '0.30',\n",
    "               '0.35',\n",
    "               '0.40']\n",
    "\n",
    "# Make both x axis into standard deviations\n",
    "axes[0].set_xticklabels(xTickLabels, fontsize = 14)\n",
    "axes[1].set_xticklabels(xTickLabels, fontsize = 14)\n",
    "\n",
    "# Only the PDF needs y ticks\n",
    "axes[1].set_yticklabels(yTickLabels, fontsize = 14)\n",
    "\n",
    "##############################\n",
    "# Add -2.698, -.6745, .6745, 2.698 text without background\n",
    "axes[1].text(-.6745,.41, r'{0:.4f}'.format(-.6745) + '$\\sigma$', horizontalalignment='center', fontsize=14,\n",
    "            bbox={'facecolor':'white', 'edgecolor':'none', 'pad':5});\n",
    "\n",
    "axes[1].text(.6745, .410, r'{0:.4f}'.format(.6745) + '$\\sigma$', horizontalalignment='center', fontsize=14,\n",
    "            bbox={'facecolor':'white', 'edgecolor':'none', 'pad':5});\n",
    "\n",
    "axes[1].text(-2.698, .410, r'{0:.3f}'.format(-2.698) + '$\\sigma$', horizontalalignment='center', fontsize=14,\n",
    "            bbox={'facecolor':'white', 'edgecolor':'none', 'pad':5});\n",
    "\n",
    "axes[1].text(2.698, .410, r'{0:.3f}'.format(2.698) + '$\\sigma$', horizontalalignment='center', fontsize=14,\n",
    "            bbox={'facecolor':'white', 'edgecolor':'none', 'pad':5});\n",
    "\n",
    "fig.tight_layout()\n",
    "fig.savefig('99_3_Distribution.png', dpi = 900)"
   ]
  },
  {
   "cell_type": "markdown",
   "metadata": {
    "hidden": true
   },
   "source": [
    "Como se mencionó anteriormente, los valores atípicos son el .7% restante de los datos.\n",
    "Es importante tener en cuenta que para cualquier PDF, el área debajo de la curva debe ser 1 (la probabilidad de sacar cualquier número del rango de la función es siempre 1)."
   ]
  },
  {
   "cell_type": "code",
   "execution_count": 16,
   "metadata": {
    "ExecuteTime": {
     "end_time": "2020-03-18T20:40:15.191760Z",
     "start_time": "2020-03-18T20:40:15.180685Z"
    },
    "hidden": true
   },
   "outputs": [
    {
     "name": "stdout",
     "output_type": "stream",
     "text": [
      "0.9999999999999997\n"
     ]
    }
   ],
   "source": [
    "# Integrate from -inf to +inf\n",
    "result, _ = quad(normalProbabilityDensity,\n",
    "                     -np.inf,\n",
    "                     np.inf,\n",
    "                     limit = 1000)\n",
    "\n",
    "print(result)"
   ]
  },
  {
   "cell_type": "code",
   "execution_count": 17,
   "metadata": {
    "ExecuteTime": {
     "end_time": "2020-03-18T20:40:48.397574Z",
     "start_time": "2020-03-18T20:40:40.747451Z"
    },
    "hidden": true
   },
   "outputs": [
    {
     "data": {
      "image/png": "[encoded data removed]",
      "text/plain": [
       "<Figure size 648x648 with 2 Axes>"
      ]
     },
     "metadata": {
      "needs_background": "light"
     },
     "output_type": "display_data"
    }
   ],
   "source": [
    "np.random.seed(916170)\n",
    "\n",
    "# connection path is here: https://stackoverflow.com/questions/6146290/plotting-a-line-over-several-graphs\n",
    "mu, sigma = 0, 1 # mean and standard deviation\n",
    "s = np.random.normal(mu, sigma, 1000)\n",
    "\n",
    "fig, axes = plt.subplots(nrows = 2, ncols = 1, figsize=(9, 9))\n",
    "\n",
    "# rectangular box plot\n",
    "bplot = axes[0].boxplot(s,\n",
    "                vert=False,\n",
    "                patch_artist=True, \n",
    "                showfliers=True, # This would show outliers (the remaining .7% of the data)\n",
    "                positions = [0],\n",
    "                boxprops = dict(linestyle='--', linewidth=2, color='Black', facecolor = 'red', alpha = .4),\n",
    "                medianprops = dict(linestyle='-', linewidth=2, color='Yellow'),\n",
    "                whiskerprops = dict(linestyle='-', linewidth=2, color='red', alpha = .4),\n",
    "                capprops = dict(linestyle='-', linewidth=2, color='red'),\n",
    "                flierprops = dict(marker='o', markerfacecolor='red', markersize=10,\n",
    "                  linestyle='none', alpha = .4),\n",
    "                widths = .3,\n",
    "                zorder = 1)   \n",
    "\n",
    "axes[0].set_xlim(-4, 4)\n",
    "axes[0].set_yticks([])\n",
    "x = np.linspace(-4, 4, num = 100)\n",
    "constant = 1.0 / np.sqrt(2*np.pi)\n",
    "pdf_normal_distribution = constant * np.exp((-x**2) / 2.0)\n",
    "\n",
    "axes[0].annotate(r'',\n",
    "            xy=(-.6745, .30), xycoords='data',\n",
    "            xytext=(.6745, .30), textcoords='data',\n",
    "            arrowprops=dict(arrowstyle=\"|-|\",\n",
    "                            connectionstyle=\"arc3\")\n",
    "            );\n",
    "\n",
    "axes[0].text(0, .36, r\"IQR\",  horizontalalignment='center', fontsize=18)\n",
    "axes[0].text(0, -.24, r\"Median\", horizontalalignment='center', fontsize=18);\n",
    "axes[0].text(-.6745, .18, r\"Q1\", horizontalalignment='center', fontsize=18);\n",
    "axes[0].text(-2.698, .12, r\"Q1 - 1.5*IQR\", horizontalalignment='center', fontsize=16);\n",
    "axes[0].text(.6745, .18, r\"Q3\", horizontalalignment='center', fontsize=18);\n",
    "axes[0].text(2.698, .12, r\"Q3 + 1.5*IQR\", horizontalalignment='center', fontsize=16);\n",
    "\n",
    "axes[1].plot(x, pdf_normal_distribution, zorder= 2)\n",
    "axes[1].set_xlim(-4, 4)\n",
    "axes[1].set_ylim(0)\n",
    "axes[1].set_ylabel('Probability Density', size = 20)\n",
    "\n",
    "##############################\n",
    "\n",
    "# Make the shaded center region to represent integral\n",
    "a, b = -4, 4\n",
    "ix = np.linspace(a, b)\n",
    "iy = normalProbabilityDensity(ix)\n",
    "verts = [(-.6745, 0)] + list(zip(ix, iy)) + [(.6745, 0)]\n",
    "poly = Polygon(verts, facecolor='red', edgecolor='0.2', alpha = .4)\n",
    "axes[1].add_patch(poly)\n",
    "axes[1].text(0, .04, r'{0:.0f}%'.format(result*100),\n",
    "         horizontalalignment='center', fontsize=18)\n",
    "\n",
    "##############################\n",
    "xTickLabels = [r'$-4\\sigma$',\n",
    "               r'$-3\\sigma$',\n",
    "               r'$-2\\sigma$',\n",
    "               r'$-1\\sigma$',\n",
    "               r'$0\\sigma$',\n",
    "               r'$1\\sigma$',\n",
    "               r'$2\\sigma$',\n",
    "               r'$3\\sigma$',\n",
    "               r'$4\\sigma$']\n",
    "\n",
    "yTickLabels = ['0.00',\n",
    "               '0.05',\n",
    "               '0.10',\n",
    "               '0.15',\n",
    "               '0.20',\n",
    "               '0.25',\n",
    "               '0.30',\n",
    "               '0.35',\n",
    "               '0.40']\n",
    "\n",
    "# Make both x axis into standard deviations\n",
    "axes[0].set_xticklabels(xTickLabels, fontsize = 14)\n",
    "axes[1].set_xticklabels(xTickLabels, fontsize = 14)\n",
    "\n",
    "# Only the PDF needs y ticks\n",
    "axes[1].set_yticklabels(yTickLabels, fontsize = 14)\n",
    "\n",
    "##############################\n",
    "# Add -2.698, -.6745, .6745, 2.698 text without background\n",
    "axes[1].text(-.6745,.41, r'{0:.4f}'.format(-.6745) + '$\\sigma$', horizontalalignment='center', fontsize=14,\n",
    "            bbox={'facecolor':'white', 'edgecolor':'none', 'pad':5});\n",
    "\n",
    "axes[1].text(.6745, .410, r'{0:.4f}'.format(.6745) + '$\\sigma$', horizontalalignment='center', fontsize=14,\n",
    "            bbox={'facecolor':'white', 'edgecolor':'none', 'pad':5});\n",
    "\n",
    "axes[1].text(-2.698, .410, r'{0:.3f}'.format(-2.698) + '$\\sigma$', horizontalalignment='center', fontsize=14,\n",
    "            bbox={'facecolor':'white', 'edgecolor':'none', 'pad':5});\n",
    "\n",
    "axes[1].text(2.698, .410, r'{0:.3f}'.format(2.698) + '$\\sigma$', horizontalalignment='center', fontsize=14,\n",
    "            bbox={'facecolor':'white', 'edgecolor':'none', 'pad':5});\n",
    "\n",
    "fig.tight_layout()\n",
    "fig.savefig('combined100.png', dpi = 900)"
   ]
  },
  {
   "cell_type": "markdown",
   "metadata": {
    "heading_collapsed": true,
    "hidden": true
   },
   "source": [
    "## New Stuff"
   ]
  },
  {
   "cell_type": "code",
   "execution_count": 18,
   "metadata": {
    "ExecuteTime": {
     "end_time": "2020-03-18T20:41:59.853318Z",
     "start_time": "2020-03-18T20:41:59.160383Z"
    },
    "hidden": true
   },
   "outputs": [
    {
     "data": {
      "image/png": "[encoded data removed]",
      "text/plain": [
       "<Figure size 720x360 with 1 Axes>"
      ]
     },
     "metadata": {
      "needs_background": "light"
     },
     "output_type": "display_data"
    }
   ],
   "source": [
    "np.random.seed(916170)\n",
    "\n",
    "# connection path is here: https://stackoverflow.com/questions/6146290/plotting-a-line-over-several-graphs\n",
    "mu, sigma = 0, 1 # mean and standard deviation\n",
    "s = np.random.normal(mu, sigma, 1000)\n",
    "\n",
    "fig, axes = plt.subplots(nrows = 1, ncols = 1, figsize=(10, 5))\n",
    "\n",
    "# rectangular box plot\n",
    "bplot = axes.boxplot(s,\n",
    "                vert=False,\n",
    "                patch_artist=True, \n",
    "                showfliers=True, # This would show outliers (the remaining .7% of the data)\n",
    "                positions = [0],\n",
    "                boxprops = dict(linestyle='--', linewidth=2, color='Black', facecolor = 'red', alpha = .4),\n",
    "                medianprops = dict(linestyle='-', linewidth=2, color='Yellow'),\n",
    "                whiskerprops = dict(linestyle='-', linewidth=2, color='Blue', alpha = .4),\n",
    "                capprops = dict(linestyle='-', linewidth=2, color='Black'),\n",
    "                flierprops = dict(marker='o', markerfacecolor='green', markersize=10,\n",
    "                  linestyle='none', alpha = .4),\n",
    "                widths = .3,\n",
    "                zorder = 1)   \n",
    "\n",
    "plt.xticks(fontsize = 14)\n",
    "\n",
    "axes.set_yticks([])\n",
    "axes.annotate(r'',\n",
    "            xy=(-.73, .205), xycoords='data',\n",
    "            xytext=(.66, .205), textcoords='data',\n",
    "            arrowprops=dict(arrowstyle=\"|-|\",\n",
    "                            connectionstyle=\"arc3\")\n",
    "            );\n",
    "\n",
    "axes.text(0, .25, \"Interquartile Range \\n(IQR)\",  horizontalalignment='center', fontsize=18)\n",
    "axes.text(0, -.21, r\"Median\", horizontalalignment='center', fontsize=16);\n",
    "axes.text(2.65, -.15, \"\\\"Maximum\\\"\", horizontalalignment='center', fontsize=18);\n",
    "axes.text(-2.65, -.15, \"\\\"Minimum\\\"\", horizontalalignment='center', fontsize=18);\n",
    "axes.text(-.68, -.24, r\"Q1\", horizontalalignment='center', fontsize=18);\n",
    "axes.text(-2.65, -.21, r\"(Q1 - 1.5*IQR)\", horizontalalignment='center', fontsize=16);\n",
    "axes.text(.6745, -.24, r\"Q3\", horizontalalignment='center', fontsize=18);\n",
    "axes.text(.6745, -.30, r\"(75th Percentile)\", horizontalalignment='center', fontsize=12);\n",
    "axes.text(-.68, -.30, r\"(25th Percentile)\", horizontalalignment='center', fontsize=12);\n",
    "axes.text(2.65, -.21, r\"(Q3 + 1.5*IQR)\", horizontalalignment='center', fontsize=16);\n",
    "\n",
    "axes.annotate('Outliers', xy=(2.93,0.015), xytext=(2.52,0.20), fontsize = 18,\n",
    "            arrowprops={'arrowstyle': '->', 'color': 'black', 'lw': 2},\n",
    "            va='center');\n",
    "\n",
    "axes.annotate('Outliers', xy=(-3.01,0.015), xytext=(-3.41,0.20), fontsize = 18,\n",
    "            arrowprops={'arrowstyle': '->', 'color': 'black', 'lw': 2},\n",
    "            va='center');\n",
    "\n",
    "fig.tight_layout()\n",
    "axes.set_xticks([-5, -4, -3, -2, -1, 0, 1, 2, 3, 4, 5]);\n",
    "\n",
    "stuff = axes.get_xticklabels()\n",
    "\n",
    "xTickLabels = [r'$-5\\sigma$',\n",
    "               r'$-4\\sigma$',\n",
    "               r'$-3\\sigma$',\n",
    "               r'$-2\\sigma$',\n",
    "               r'$-1\\sigma$',\n",
    "               r'$0\\sigma$',\n",
    "               r'$1\\sigma$',\n",
    "               r'$2\\sigma$',\n",
    "               r'$3\\sigma$',\n",
    "               r'$4\\sigma$',\n",
    "               r'$5\\sigma$'];\n",
    "\n",
    "axes.set_xticklabels(xTickLabels, fontsize = 18);\n",
    "\n",
    "\n",
    "\n",
    "#fig.savefig('simple_boxplot.png', dpi = 900)"
   ]
  },
  {
   "cell_type": "code",
   "execution_count": 19,
   "metadata": {
    "ExecuteTime": {
     "end_time": "2020-03-18T20:42:13.789270Z",
     "start_time": "2020-03-18T20:42:13.773806Z"
    },
    "hidden": true
   },
   "outputs": [
    {
     "name": "stdout",
     "output_type": "stream",
     "text": [
      "0.9999999999999997\n"
     ]
    }
   ],
   "source": [
    "# Make PDF for the normal distribution a function\n",
    "def normalProbabilityDensity(x):\n",
    "    constant = 1.0 / np.sqrt(2*np.pi)\n",
    "    return(constant * np.exp((-x**2) / 2.0) )\n",
    "\n",
    "# Integrate from -inf to +inf\n",
    "result, _ = quad(normalProbabilityDensity,\n",
    "                     -np.inf,\n",
    "                     np.inf,\n",
    "                     limit = 1000)\n",
    "\n",
    "print(result)"
   ]
  },
  {
   "cell_type": "code",
   "execution_count": 21,
   "metadata": {
    "ExecuteTime": {
     "end_time": "2020-03-18T20:42:38.571854Z",
     "start_time": "2020-03-18T20:42:30.641937Z"
    },
    "hidden": true
   },
   "outputs": [
    {
     "data": {
      "image/png": "[encoded data removed]",
      "text/plain": [
       "<Figure size 648x648 with 2 Axes>"
      ]
     },
     "metadata": {
      "needs_background": "light"
     },
     "output_type": "display_data"
    }
   ],
   "source": [
    "np.random.seed(916170)\n",
    "\n",
    "# connection path is here: https://stackoverflow.com/questions/6146290/plotting-a-line-over-several-graphs\n",
    "mu, sigma = 0, 1 # mean and standard deviation\n",
    "s = np.random.normal(mu, sigma, 1000)\n",
    "\n",
    "fig, axes = plt.subplots(nrows = 2, ncols = 1, figsize=(9, 9))\n",
    "\n",
    "# rectangular box plot\n",
    "bplot = axes[0].boxplot(s,\n",
    "                vert=False,\n",
    "                patch_artist=True, \n",
    "                showfliers=True, # This would show outliers (the remaining .7% of the data)\n",
    "                positions = [0],\n",
    "                boxprops = dict(linestyle='--', linewidth=2, color='Black', facecolor = 'red', alpha = .4),\n",
    "                medianprops = dict(linestyle='-', linewidth=2, color='Yellow'),\n",
    "                whiskerprops = dict(linestyle='-', linewidth=2, color='Blue', alpha = .4),\n",
    "                capprops = dict(linestyle='-', linewidth=2, color='Black'),\n",
    "                flierprops = dict(marker='o', markerfacecolor='green', markersize=10,\n",
    "                  linestyle='none', alpha = .4),\n",
    "                widths = .3,\n",
    "                zorder = 1)   \n",
    "\n",
    "axes[0].set_xlim(-4, 4)\n",
    "axes[0].set_yticks([])\n",
    "x = np.linspace(-4, 4, num = 100)\n",
    "constant = 1.0 / np.sqrt(2*np.pi)\n",
    "pdf_normal_distribution = constant * np.exp((-x**2) / 2.0)\n",
    "\n",
    "axes[0].annotate(r'',\n",
    "            xy=(-.6745, .30), xycoords='data',\n",
    "            xytext=(.6745, .30), textcoords='data',\n",
    "            arrowprops=dict(arrowstyle=\"|-|\",\n",
    "                            connectionstyle=\"arc3\")\n",
    "            );\n",
    "\n",
    "axes[0].text(0, .36, r\"IQR\",  horizontalalignment='center', fontsize=18)\n",
    "axes[0].text(0, -.24, r\"Median\", horizontalalignment='center', fontsize=18);\n",
    "axes[0].text(-.6745, .18, r\"Q1\", horizontalalignment='center', fontsize=18);\n",
    "axes[0].text(-2.698, .12, r\"Q1 - 1.5*IQR\", horizontalalignment='center', fontsize=16);\n",
    "axes[0].text(.6745, .18, r\"Q3\", horizontalalignment='center', fontsize=18);\n",
    "axes[0].text(2.698, .12, r\"Q3 + 1.5*IQR\", horizontalalignment='center', fontsize=16);\n",
    "\n",
    "axes[1].plot(x, pdf_normal_distribution, zorder= 2)\n",
    "axes[1].set_xlim(-4, 4)\n",
    "axes[1].set_ylim(0)\n",
    "axes[1].set_ylabel('Probability Density', size = 20)\n",
    "\n",
    "##############################\n",
    "# lower box\n",
    "con = ConnectionPatch(xyA=(-.6745, 0), xyB=(-.6745, 0),\n",
    "    coordsA=\"data\", coordsB=\"data\", axesA=axes[1], axesB=axes[0],\n",
    "    arrowstyle=\"-\", linewidth=2, color=\"black\", zorder = 2, alpha = .2)\n",
    "axes[1].add_artist(con)\n",
    "\n",
    "# upper box\n",
    "con = ConnectionPatch(xyA=(.6745, 0), xyB=(.6745, 0),\n",
    "    coordsA=\"data\", coordsB=\"data\", axesA=axes[1], axesB=axes[0],\n",
    "    arrowstyle=\"-\", linewidth=2, color=\"black\", zorder = 2, alpha = .2)\n",
    "axes[1].add_artist(con)\n",
    "\n",
    "# lower whisker\n",
    "con = ConnectionPatch(xyA=(-2.698, 0), xyB=(-2.698, 0),\n",
    "    coordsA=\"data\", coordsB=\"data\", axesA=axes[1], axesB=axes[0],\n",
    "    arrowstyle=\"-\", linewidth=2, color=\"black\", zorder = 2, alpha = .2)\n",
    "axes[1].add_artist(con)\n",
    "\n",
    "# upper whisker\n",
    "con = ConnectionPatch(xyA=(2.698, 0), xyB=(2.698, 0),\n",
    "    coordsA=\"data\", coordsB=\"data\", axesA=axes[1], axesB=axes[0],\n",
    "    arrowstyle=\"-\", linewidth=2, color=\"black\", zorder = 2, alpha = .2)\n",
    "axes[1].add_artist(con)\n",
    "\n",
    "# Make the shaded center region to represent integral\n",
    "a, b = -.6745, .6745\n",
    "ix = np.linspace(a, b)\n",
    "iy = normalProbabilityDensity(ix)\n",
    "verts = [(-.6745, 0)] + list(zip(ix, iy)) + [(.6745, 0)]\n",
    "poly = Polygon(verts, facecolor='red', edgecolor='0.2', alpha = .4)\n",
    "axes[1].add_patch(poly)\n",
    "axes[1].text(0, .04, r'{0:.0f}%'.format(result_n67_67*100),\n",
    "         horizontalalignment='center', fontsize=18)\n",
    "\n",
    "##############################\n",
    "a, b = -2.698, -.6745# integral limits\n",
    "\n",
    "# Make the shaded region\n",
    "ix = np.linspace(a, b)\n",
    "iy = normalProbabilityDensity(ix)\n",
    "verts = [(a, 0)] + list(zip(ix, iy)) + [(b, 0)]\n",
    "poly = Polygon(verts, facecolor='blue', edgecolor='0.2', alpha = .4)\n",
    "axes[1].add_patch(poly);\n",
    "axes[1].text(-1.40, .04, r'{0:.2f}%'.format(result_n2698_67*100),\n",
    "         horizontalalignment='center', fontsize=18);\n",
    "\n",
    "##############################\n",
    "a, b = .6745, 2.698 # integral limits\n",
    "\n",
    "# Make the shaded region\n",
    "ix = np.linspace(a, b)\n",
    "iy = normalProbabilityDensity(ix)\n",
    "verts = [(a, 0)] + list(zip(ix, iy)) + [(b, 0)]\n",
    "poly = Polygon(verts, facecolor='blue', edgecolor='0.2', alpha = .4)\n",
    "axes[1].add_patch(poly);\n",
    "axes[1].text(1.40, .04, r'{0:.2f}%'.format(result_67_2698*100),\n",
    "         horizontalalignment='center', fontsize=18);\n",
    "\n",
    "##############################\n",
    "a, b = 2.698, 4 # integral limits\n",
    "\n",
    "# Make the shaded region\n",
    "ix = np.linspace(a, b)\n",
    "iy = normalProbabilityDensity(ix)\n",
    "verts = [(a, 0)] + list(zip(ix, iy)) + [(b, 0)]\n",
    "poly = Polygon(verts, facecolor='green', edgecolor='0.2', alpha = .4)\n",
    "axes[1].add_patch(poly);\n",
    "axes[1].text(3.3, .04, r'{0:.2f}%'.format(result_2698_inf*100),\n",
    "         horizontalalignment='center', fontsize=18);\n",
    "\n",
    "##############################\n",
    "a, b = -4, -2.698 # integral limits\n",
    "\n",
    "# Make the shaded region\n",
    "ix = np.linspace(a, b)\n",
    "iy = normalProbabilityDensity(ix)\n",
    "verts = [(a, 0)] + list(zip(ix, iy)) + [(b, 0)]\n",
    "poly = Polygon(verts, facecolor='green', edgecolor='0.2', alpha = .4)\n",
    "axes[1].add_patch(poly);\n",
    "axes[1].text(-3.3, .04, r'{0:.2f}%'.format(result_ninf_n2698*100),\n",
    "         horizontalalignment='center', fontsize=18);\n",
    "\n",
    "##############################\n",
    "xTickLabels = [r'$-4\\sigma$',\n",
    "               r'$-3\\sigma$',\n",
    "               r'$-2\\sigma$',\n",
    "               r'$-1\\sigma$',\n",
    "               r'$0\\sigma$',\n",
    "               r'$1\\sigma$',\n",
    "               r'$2\\sigma$',\n",
    "               r'$3\\sigma$',\n",
    "               r'$4\\sigma$']\n",
    "\n",
    "yTickLabels = ['0.00',\n",
    "               '0.05',\n",
    "               '0.10',\n",
    "               '0.15',\n",
    "               '0.20',\n",
    "               '0.25',\n",
    "               '0.30',\n",
    "               '0.35',\n",
    "               '0.40']\n",
    "\n",
    "# Make both x axis into standard deviations\n",
    "axes[0].set_xticklabels(xTickLabels, fontsize = 14)\n",
    "axes[1].set_xticklabels(xTickLabels, fontsize = 14)\n",
    "\n",
    "# Only the PDF needs y ticks\n",
    "axes[1].set_yticklabels(yTickLabels, fontsize = 14)\n",
    "\n",
    "##############################\n",
    "# Add -2.698, -.6745, .6745, 2.698 text without background\n",
    "axes[1].text(-.6745,.41, r'{0:.4f}'.format(-.6745) + '$\\sigma$', horizontalalignment='center', fontsize=14,\n",
    "            bbox={'facecolor':'white', 'edgecolor':'none', 'pad':5});\n",
    "\n",
    "axes[1].text(.6745, .410, r'{0:.4f}'.format(.6745) + '$\\sigma$', horizontalalignment='center', fontsize=14,\n",
    "            bbox={'facecolor':'white', 'edgecolor':'none', 'pad':5});\n",
    "\n",
    "axes[1].text(-2.698, .410, r'{0:.3f}'.format(-2.698) + '$\\sigma$', horizontalalignment='center', fontsize=14,\n",
    "            bbox={'facecolor':'white', 'edgecolor':'none', 'pad':5});\n",
    "\n",
    "axes[1].text(2.698, .410, r'{0:.3f}'.format(2.698) + '$\\sigma$', horizontalalignment='center', fontsize=14,\n",
    "            bbox={'facecolor':'white', 'edgecolor':'none', 'pad':5});\n",
    "\n",
    "fig.tight_layout()\n",
    "fig.savefig('entireboxplotNormalDistribution.png', dpi = 900)"
   ]
  },
  {
   "cell_type": "code",
   "execution_count": null,
   "metadata": {
    "hidden": true
   },
   "outputs": [],
   "source": []
  }
 ],
 "metadata": {
  "gist": {
   "data": {
    "description": "Documentos/Box_Plot.ipynb",
    "public": false
   },
   "id": ""
  },
  "hide_input": true,
  "kernelspec": {
   "display_name": "Python 3",
   "language": "python",
   "name": "python3"
  },
  "language_info": {
   "codemirror_mode": {
    "name": "ipython",
    "version": 3
   },
   "file_extension": ".py",
   "mimetype": "text/x-python",
   "name": "python",
   "nbconvert_exporter": "python",
   "pygments_lexer": "ipython3",
   "version": "3.7.3"
  },
  "toc": {
   "base_numbering": 1,
   "nav_menu": {},
   "number_sections": true,
   "sideBar": true,
   "skip_h1_title": false,
   "title_cell": "Table of Contents",
   "title_sidebar": "Contents",
   "toc_cell": false,
   "toc_position": {},
   "toc_section_display": true,
   "toc_window_display": true
  },
  "varInspector": {
   "cols": {
    "lenName": 16,
    "lenType": 16,
    "lenVar": 40
   },
   "kernels_config": {
    "python": {
     "delete_cmd_postfix": "",
     "delete_cmd_prefix": "del ",
     "library": "var_list.py",
     "varRefreshCmd": "print(var_dic_list())"
    },
    "r": {
     "delete_cmd_postfix": ") ",
     "delete_cmd_prefix": "rm(",
     "library": "var_list.r",
     "varRefreshCmd": "cat(var_dic_list()) "
    }
   },
   "types_to_exclude": [
    "module",
    "function",
    "builtin_function_or_method",
    "instance",
    "_Feature"
   ],
   "window_display": false
  }
 },
 "nbformat": 4,
 "nbformat_minor": 2
}
